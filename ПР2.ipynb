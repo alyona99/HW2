{
 "cells": [
  {
   "cell_type": "markdown",
   "id": "3200c38f",
   "metadata": {},
   "source": [
    "# Практическая работа №2"
   ]
  },
  {
   "cell_type": "markdown",
   "id": "c0c2d89f",
   "metadata": {},
   "source": [
    "### О датасете:\n",
    "\n",
    "Датасет представляет собой сырую выгрузку данных анкетирования премиальных клиентов банков (названия банков зашифрованы).\n",
    "\n",
    "Top Premium, Premium, Light Premium - премиальные программы обслуживания клиентов, отличающиеся размером капитала клиентов от большего к меньшему соотвественно. \n",
    "Transactor, Investor, Passive - поведенческие характеристики клиентов. Transactor - клиенты с ежемесячными транзакциями по картам 200 тыс. руб.+, размер капитала в инвестиционных продуктах 0-40%. Investor - размер капитала в инвестиционных продуктах 40%+, размер ежемесячных транзакций по картам не имеет значения. Passive (вкладчики) - размер капитала в инвестиционных продуктах 0-40%, размер ежемесячных транзакций по картам не имеет значения.\n",
    "\n",
    "Клиенты отвечали на вопросы касательно удовлетворенности определенными параметрами продуктов и услуг и оценивали важность тех или иных параметров при выборе банка.\n",
    "\n",
    "### Кодирование вопросов:\n",
    "\n",
    "#### NPS - Оцените, насколько Вы готовы порекомендовать своим друзьям, коллегам, знакомым банки, в которых Вы обслуживаетесь. Для оценки используйте шкалу от 0 до 10, где 0 – «Точно не стану рекомендовать», 10 — «Обязательно порекомендую».\n",
    "\n",
    "#### CSI_N - Насколько Вы удовлетворены работой банков, в которых обслуживаетесь? Оцените, пожалуйста, насколько хорошо в Вашем банке(-ах) реализованы перечисленные ниже параметры банковского обслуживания, где 1 - очень плохо, 2 - плохо, 3 - удовлетворительно, 4 - хорошо, 5 - очень хорошо.\n",
    "\n",
    "CSI_1 - Обслуживание в отделении\n",
    "\n",
    "CSI_2 - Работа персонального менеджера\n",
    "\n",
    "CSI_3 - Инвестиционная экспертиза\n",
    "\n",
    "CSI_4 - Работа колл-центра\n",
    "\n",
    "CSI_5 - Интернет-банк (открытый на компьютере)\n",
    "\n",
    "CSI_6 - Интернет-банк (открытый в браузере смартфона)\n",
    "\n",
    "CSI_7 - Мобильное приложение\n",
    "\n",
    "CSI_8 - Работа чата в МП\n",
    "\n",
    "CSI_9 - Приложение для инвестиций\n",
    "\n",
    "CSI_10 - Сайт банка\n",
    "\n",
    "#### IMP_PN - Что Вам важно при выборе пакета премиального банковского обслуживания? Для оценки параметров банковских продуктов используйте шкалу от 1 до 5, где 1 – «Совсем не важно», а 5 – «Очень важно».\n",
    "\n",
    "IMP_P1 - Комиссии и лимиты на снятие наличных\n",
    "\n",
    "IMP_P2 - Комиссии и лимиты на денежные переводы в рублях\n",
    "\n",
    "IMP_P3 - Условия по рублевым вкладам и накопительным счетам\n",
    "\n",
    "IMP_P4 - Работа с валютой – курс обмена, комиссии и лимиты по переводам, комиссии за ведение валютных счетов\n",
    "\n",
    "IMP_P5 - Инвестиционные продукты – широта доступной линейки\n",
    "\n",
    "IMP_P6 - Небанковские привилегии – бизнес-залы аэропортов, страхование, трансферы, консьерж-сервис\n",
    "\n",
    "IMP_P7 - Условия по кредитным картам – кредитный лимит, ставка, стоимость обслуживания, программа лояльности\n",
    "\n",
    "IMP_P8 - Условия по дебетовым картам – стоимость обслуживания, программа лояльности\n",
    "\n",
    "IMP_P9 - Условия по кредитам – ипотека, кредит наличными, автокредитование\n",
    "\n",
    "#### IMP_SN - Для оценки параметров сервисов и услуг используйте шкалу от 1 до 5, где 1 – «Совсем не важно», а 5 – «Очень важно».\n",
    "\n",
    "IMP_S1 - Обслуживание в отделении банка – удобство расположения, комфорт в отделении\n",
    "\n",
    "IMP_S2 - Персональный менеджер банка – профессионализм, личные качества\n",
    "\n",
    "IMP_S3 - Консультации по инвестиционным продуктам – компетенция менеджера и других доступных специалистов по инвестициям\n",
    "\n",
    "IMP_S4 - Консультации по небанковским услугам – налоговые и юридические вопросы, валютный контроль, ВНЖ, приобретение недвижимости\n",
    "\n",
    "IMP_S5 - Колл-центр банка – доступные операции, оперативность, компетенция\n",
    "\n",
    "IMP_S6 - Банкоматы – доступность и удобство пользования\n",
    "\n",
    "IMP_S7 - Сайт банка – доступность информации для премиальных клиентов\n",
    "\n",
    "IMP_S8 - Мобильное приложение банка – функционал и удобство использования\n",
    "\n",
    "IMP_S9 - Интернет-банк (открытый на компьютере) – функционал и удобство использования\n",
    "\n",
    "IMP_S10 - Инвестиционное приложение для брокерского обслуживания – функционал и удобство использования\n",
    "\n",
    "IMP_S11 - Единый подход к обслуживанию бизнес-счета (ИП) и счета физического лица в одном банке\n",
    "\n",
    "#### IMP_R - Для оценки репутации и бизнес-устойчивости банка используйте шкалу от 1 до 5, где 1 – «Совсем не важно», а 5 – «Очень важно»\n",
    "\n",
    "#### IMP_MOBN - Что для Вас важно в мобильном приложении и интернет-банке? Для оценки используйте шкалу от 1 до 5, где 1 – «Совсем не важно», а 5 – «Очень важно».\n",
    "\n",
    "IMP_MOB1 - Удобная регистрация и вход\n",
    "\n",
    "IMP_MOB2 - Стабильность работы\n",
    "\n",
    "IMP_MOB3 - Возможность анализировать потоки расходов и доходов\n",
    "\n",
    "IMP_MOB4 - Использование экосистемы (покупка товаров, билетов, подписка)\n",
    "\n",
    "IMP_MOB5 - Возможность настроить интерфейс и набор функций под себя\n",
    "\n",
    "IMP_MOB6 - Возможность управлять безопасностью (блокировать карту, изменять лимиты, указывать страну пребывания)\n",
    "\n",
    "IMP_MOB7 - Возможность пользоваться скидками/бонусами от партнеров (купить билеты, потратить бонусы)\n",
    "\n",
    "IMP_MOB8 - Наличие особого дизайна и цветовых решений для меня как премиального клиента\n",
    "\n",
    "IMP_MOB9 - Наличие персональных продуктовых предложений от банка_M"
   ]
  },
  {
   "cell_type": "code",
   "execution_count": 1,
   "id": "84163fa6",
   "metadata": {},
   "outputs": [],
   "source": [
    "import pandas as pd\n",
    "import numpy as np"
   ]
  },
  {
   "cell_type": "code",
   "execution_count": 2,
   "id": "cdbdff28",
   "metadata": {},
   "outputs": [
    {
     "data": {
      "text/html": [
       "<div>\n",
       "<style scoped>\n",
       "    .dataframe tbody tr th:only-of-type {\n",
       "        vertical-align: middle;\n",
       "    }\n",
       "\n",
       "    .dataframe tbody tr th {\n",
       "        vertical-align: top;\n",
       "    }\n",
       "\n",
       "    .dataframe thead th {\n",
       "        text-align: right;\n",
       "    }\n",
       "</style>\n",
       "<table border=\"1\" class=\"dataframe\">\n",
       "  <thead>\n",
       "    <tr style=\"text-align: right;\">\n",
       "      <th></th>\n",
       "      <th>Банк</th>\n",
       "      <th>Сегмент</th>\n",
       "      <th>Поведение</th>\n",
       "      <th>NPS</th>\n",
       "      <th>CSI_1</th>\n",
       "      <th>CSI_2</th>\n",
       "      <th>CSI_3</th>\n",
       "      <th>CSI_4</th>\n",
       "      <th>CSI_5</th>\n",
       "      <th>CSI_6</th>\n",
       "      <th>...</th>\n",
       "      <th>IMP_MOB3</th>\n",
       "      <th>IMP_MOB4</th>\n",
       "      <th>IMP_MOB5</th>\n",
       "      <th>IMP_MOB6</th>\n",
       "      <th>IMP_MOB7</th>\n",
       "      <th>IMP_MOB8</th>\n",
       "      <th>IMP_MOB9</th>\n",
       "      <th>Пол</th>\n",
       "      <th>Возраст</th>\n",
       "      <th>Тип занятости</th>\n",
       "    </tr>\n",
       "  </thead>\n",
       "  <tbody>\n",
       "    <tr>\n",
       "      <th>0</th>\n",
       "      <td>Банк B</td>\n",
       "      <td>TOP Premium</td>\n",
       "      <td>Transactor</td>\n",
       "      <td>10</td>\n",
       "      <td>5.0</td>\n",
       "      <td>5.0</td>\n",
       "      <td>5.0</td>\n",
       "      <td>5.0</td>\n",
       "      <td>5.0</td>\n",
       "      <td>5.0</td>\n",
       "      <td>...</td>\n",
       "      <td>1.0</td>\n",
       "      <td>1.0</td>\n",
       "      <td>3.0</td>\n",
       "      <td>4.0</td>\n",
       "      <td>3.0</td>\n",
       "      <td>1.0</td>\n",
       "      <td>1.0</td>\n",
       "      <td>Мужской</td>\n",
       "      <td>36-45</td>\n",
       "      <td>Работник по найму в частной организации</td>\n",
       "    </tr>\n",
       "    <tr>\n",
       "      <th>1</th>\n",
       "      <td>Банк B</td>\n",
       "      <td>Premium</td>\n",
       "      <td>Passive</td>\n",
       "      <td>10</td>\n",
       "      <td>5.0</td>\n",
       "      <td>4.0</td>\n",
       "      <td>NaN</td>\n",
       "      <td>5.0</td>\n",
       "      <td>5.0</td>\n",
       "      <td>NaN</td>\n",
       "      <td>...</td>\n",
       "      <td>1.0</td>\n",
       "      <td>1.0</td>\n",
       "      <td>1.0</td>\n",
       "      <td>5.0</td>\n",
       "      <td>5.0</td>\n",
       "      <td>1.0</td>\n",
       "      <td>4.0</td>\n",
       "      <td>Женский</td>\n",
       "      <td>36-45</td>\n",
       "      <td>Работник по найму в частной организации</td>\n",
       "    </tr>\n",
       "    <tr>\n",
       "      <th>2</th>\n",
       "      <td>Банк B</td>\n",
       "      <td>Light Premium</td>\n",
       "      <td>NaN</td>\n",
       "      <td>9</td>\n",
       "      <td>4.0</td>\n",
       "      <td>NaN</td>\n",
       "      <td>NaN</td>\n",
       "      <td>NaN</td>\n",
       "      <td>4.0</td>\n",
       "      <td>NaN</td>\n",
       "      <td>...</td>\n",
       "      <td>4.0</td>\n",
       "      <td>3.0</td>\n",
       "      <td>4.0</td>\n",
       "      <td>4.0</td>\n",
       "      <td>4.0</td>\n",
       "      <td>4.0</td>\n",
       "      <td>4.0</td>\n",
       "      <td>Мужской</td>\n",
       "      <td>46-55</td>\n",
       "      <td>Работник по найму в частной организации</td>\n",
       "    </tr>\n",
       "    <tr>\n",
       "      <th>3</th>\n",
       "      <td>Банк B</td>\n",
       "      <td>TOP Premium</td>\n",
       "      <td>Passive</td>\n",
       "      <td>10</td>\n",
       "      <td>5.0</td>\n",
       "      <td>5.0</td>\n",
       "      <td>5.0</td>\n",
       "      <td>NaN</td>\n",
       "      <td>4.0</td>\n",
       "      <td>4.0</td>\n",
       "      <td>...</td>\n",
       "      <td>4.0</td>\n",
       "      <td>5.0</td>\n",
       "      <td>4.0</td>\n",
       "      <td>5.0</td>\n",
       "      <td>4.0</td>\n",
       "      <td>3.0</td>\n",
       "      <td>2.0</td>\n",
       "      <td>Мужской</td>\n",
       "      <td>36-45</td>\n",
       "      <td>Собственник бизнеса</td>\n",
       "    </tr>\n",
       "    <tr>\n",
       "      <th>4</th>\n",
       "      <td>Банк B</td>\n",
       "      <td>Premium</td>\n",
       "      <td>Transactor</td>\n",
       "      <td>10</td>\n",
       "      <td>5.0</td>\n",
       "      <td>5.0</td>\n",
       "      <td>NaN</td>\n",
       "      <td>5.0</td>\n",
       "      <td>5.0</td>\n",
       "      <td>NaN</td>\n",
       "      <td>...</td>\n",
       "      <td>5.0</td>\n",
       "      <td>4.0</td>\n",
       "      <td>3.0</td>\n",
       "      <td>4.0</td>\n",
       "      <td>5.0</td>\n",
       "      <td>1.0</td>\n",
       "      <td>2.0</td>\n",
       "      <td>Женский</td>\n",
       "      <td>46-55</td>\n",
       "      <td>Работник по найму в государственной организации</td>\n",
       "    </tr>\n",
       "    <tr>\n",
       "      <th>...</th>\n",
       "      <td>...</td>\n",
       "      <td>...</td>\n",
       "      <td>...</td>\n",
       "      <td>...</td>\n",
       "      <td>...</td>\n",
       "      <td>...</td>\n",
       "      <td>...</td>\n",
       "      <td>...</td>\n",
       "      <td>...</td>\n",
       "      <td>...</td>\n",
       "      <td>...</td>\n",
       "      <td>...</td>\n",
       "      <td>...</td>\n",
       "      <td>...</td>\n",
       "      <td>...</td>\n",
       "      <td>...</td>\n",
       "      <td>...</td>\n",
       "      <td>...</td>\n",
       "      <td>...</td>\n",
       "      <td>...</td>\n",
       "      <td>...</td>\n",
       "    </tr>\n",
       "    <tr>\n",
       "      <th>5101</th>\n",
       "      <td>Банк J</td>\n",
       "      <td>TOP Premium</td>\n",
       "      <td>Passive</td>\n",
       "      <td>10</td>\n",
       "      <td>5.0</td>\n",
       "      <td>5.0</td>\n",
       "      <td>NaN</td>\n",
       "      <td>5.0</td>\n",
       "      <td>NaN</td>\n",
       "      <td>5.0</td>\n",
       "      <td>...</td>\n",
       "      <td>NaN</td>\n",
       "      <td>NaN</td>\n",
       "      <td>NaN</td>\n",
       "      <td>NaN</td>\n",
       "      <td>NaN</td>\n",
       "      <td>NaN</td>\n",
       "      <td>NaN</td>\n",
       "      <td>Мужской</td>\n",
       "      <td>56-65</td>\n",
       "      <td>Пенсионер</td>\n",
       "    </tr>\n",
       "    <tr>\n",
       "      <th>5102</th>\n",
       "      <td>Банк J</td>\n",
       "      <td>TOP Premium</td>\n",
       "      <td>Passive</td>\n",
       "      <td>5</td>\n",
       "      <td>5.0</td>\n",
       "      <td>5.0</td>\n",
       "      <td>NaN</td>\n",
       "      <td>NaN</td>\n",
       "      <td>5.0</td>\n",
       "      <td>4.0</td>\n",
       "      <td>...</td>\n",
       "      <td>5.0</td>\n",
       "      <td>3.0</td>\n",
       "      <td>4.0</td>\n",
       "      <td>5.0</td>\n",
       "      <td>4.0</td>\n",
       "      <td>3.0</td>\n",
       "      <td>5.0</td>\n",
       "      <td>Женский</td>\n",
       "      <td>56-65</td>\n",
       "      <td>Работник по найму в частной организации</td>\n",
       "    </tr>\n",
       "    <tr>\n",
       "      <th>5103</th>\n",
       "      <td>Банк J</td>\n",
       "      <td>TOP Premium</td>\n",
       "      <td>Passive</td>\n",
       "      <td>9</td>\n",
       "      <td>4.0</td>\n",
       "      <td>3.0</td>\n",
       "      <td>NaN</td>\n",
       "      <td>NaN</td>\n",
       "      <td>5.0</td>\n",
       "      <td>5.0</td>\n",
       "      <td>...</td>\n",
       "      <td>5.0</td>\n",
       "      <td>3.0</td>\n",
       "      <td>5.0</td>\n",
       "      <td>4.0</td>\n",
       "      <td>5.0</td>\n",
       "      <td>2.0</td>\n",
       "      <td>5.0</td>\n",
       "      <td>Женский</td>\n",
       "      <td>36-45</td>\n",
       "      <td>Индивидуальный предприниматель (ИП)</td>\n",
       "    </tr>\n",
       "    <tr>\n",
       "      <th>5104</th>\n",
       "      <td>Банк J</td>\n",
       "      <td>TOP Premium</td>\n",
       "      <td>Passive</td>\n",
       "      <td>7</td>\n",
       "      <td>3.0</td>\n",
       "      <td>4.0</td>\n",
       "      <td>NaN</td>\n",
       "      <td>3.0</td>\n",
       "      <td>4.0</td>\n",
       "      <td>3.0</td>\n",
       "      <td>...</td>\n",
       "      <td>3.0</td>\n",
       "      <td>4.0</td>\n",
       "      <td>5.0</td>\n",
       "      <td>5.0</td>\n",
       "      <td>4.0</td>\n",
       "      <td>3.0</td>\n",
       "      <td>4.0</td>\n",
       "      <td>Мужской</td>\n",
       "      <td>46-55</td>\n",
       "      <td>Работник по найму в государственной организации</td>\n",
       "    </tr>\n",
       "    <tr>\n",
       "      <th>5105</th>\n",
       "      <td>Банк J</td>\n",
       "      <td>TOP Premium</td>\n",
       "      <td>Passive</td>\n",
       "      <td>9</td>\n",
       "      <td>3.0</td>\n",
       "      <td>5.0</td>\n",
       "      <td>2.0</td>\n",
       "      <td>3.0</td>\n",
       "      <td>NaN</td>\n",
       "      <td>5.0</td>\n",
       "      <td>...</td>\n",
       "      <td>4.0</td>\n",
       "      <td>5.0</td>\n",
       "      <td>4.0</td>\n",
       "      <td>4.0</td>\n",
       "      <td>4.0</td>\n",
       "      <td>3.0</td>\n",
       "      <td>4.0</td>\n",
       "      <td>Мужской</td>\n",
       "      <td>46-55</td>\n",
       "      <td>фрилансер</td>\n",
       "    </tr>\n",
       "  </tbody>\n",
       "</table>\n",
       "<p>5106 rows × 47 columns</p>\n",
       "</div>"
      ],
      "text/plain": [
       "        Банк         Сегмент   Поведение  NPS  CSI_1  CSI_2  CSI_3  CSI_4  \\\n",
       "0     Банк B     TOP Premium  Transactor   10    5.0    5.0    5.0    5.0   \n",
       "1     Банк B         Premium     Passive   10    5.0    4.0    NaN    5.0   \n",
       "2     Банк B  Light Premium          NaN    9    4.0    NaN    NaN    NaN   \n",
       "3     Банк B     TOP Premium     Passive   10    5.0    5.0    5.0    NaN   \n",
       "4     Банк B         Premium  Transactor   10    5.0    5.0    NaN    5.0   \n",
       "...      ...             ...         ...  ...    ...    ...    ...    ...   \n",
       "5101  Банк J     TOP Premium     Passive   10    5.0    5.0    NaN    5.0   \n",
       "5102  Банк J     TOP Premium     Passive    5    5.0    5.0    NaN    NaN   \n",
       "5103  Банк J     TOP Premium     Passive    9    4.0    3.0    NaN    NaN   \n",
       "5104  Банк J     TOP Premium     Passive    7    3.0    4.0    NaN    3.0   \n",
       "5105  Банк J     TOP Premium     Passive    9    3.0    5.0    2.0    3.0   \n",
       "\n",
       "      CSI_5  CSI_6  ...  IMP_MOB3  IMP_MOB4  IMP_MOB5  IMP_MOB6  IMP_MOB7  \\\n",
       "0       5.0    5.0  ...       1.0       1.0       3.0       4.0       3.0   \n",
       "1       5.0    NaN  ...       1.0       1.0       1.0       5.0       5.0   \n",
       "2       4.0    NaN  ...       4.0       3.0       4.0       4.0       4.0   \n",
       "3       4.0    4.0  ...       4.0       5.0       4.0       5.0       4.0   \n",
       "4       5.0    NaN  ...       5.0       4.0       3.0       4.0       5.0   \n",
       "...     ...    ...  ...       ...       ...       ...       ...       ...   \n",
       "5101    NaN    5.0  ...       NaN       NaN       NaN       NaN       NaN   \n",
       "5102    5.0    4.0  ...       5.0       3.0       4.0       5.0       4.0   \n",
       "5103    5.0    5.0  ...       5.0       3.0       5.0       4.0       5.0   \n",
       "5104    4.0    3.0  ...       3.0       4.0       5.0       5.0       4.0   \n",
       "5105    NaN    5.0  ...       4.0       5.0       4.0       4.0       4.0   \n",
       "\n",
       "      IMP_MOB8  IMP_MOB9      Пол  Возраст  \\\n",
       "0          1.0       1.0  Мужской    36-45   \n",
       "1          1.0       4.0  Женский    36-45   \n",
       "2          4.0       4.0  Мужской    46-55   \n",
       "3          3.0       2.0  Мужской    36-45   \n",
       "4          1.0       2.0  Женский    46-55   \n",
       "...        ...       ...      ...      ...   \n",
       "5101       NaN       NaN  Мужской    56-65   \n",
       "5102       3.0       5.0  Женский    56-65   \n",
       "5103       2.0       5.0  Женский    36-45   \n",
       "5104       3.0       4.0  Мужской    46-55   \n",
       "5105       3.0       4.0  Мужской    46-55   \n",
       "\n",
       "                                        Тип занятости  \n",
       "0             Работник по найму в частной организации  \n",
       "1             Работник по найму в частной организации  \n",
       "2             Работник по найму в частной организации  \n",
       "3                                 Собственник бизнеса  \n",
       "4     Работник по найму в государственной организации  \n",
       "...                                               ...  \n",
       "5101                                        Пенсионер  \n",
       "5102          Работник по найму в частной организации  \n",
       "5103              Индивидуальный предприниматель (ИП)  \n",
       "5104  Работник по найму в государственной организации  \n",
       "5105                                        фрилансер  \n",
       "\n",
       "[5106 rows x 47 columns]"
      ]
     },
     "execution_count": 2,
     "metadata": {},
     "output_type": "execute_result"
    }
   ],
   "source": [
    "banks = pd.read_excel('DF_banks.xlsx')\n",
    "banks"
   ]
  },
  {
   "cell_type": "markdown",
   "id": "476e47de",
   "metadata": {},
   "source": [
    "#### Датасет содержит 5106 ответов респондентов\n",
    "\n",
    "Обязательно посмотрим на кол-во пропусков, т.к. все вопросы за исключением NPS, пола, возраста и типа занятости являлись необязательными."
   ]
  },
  {
   "cell_type": "code",
   "execution_count": 3,
   "id": "221b3ae7",
   "metadata": {},
   "outputs": [
    {
     "data": {
      "text/plain": [
       "Банк                0\n",
       "Сегмент             0\n",
       "Поведение        1350\n",
       "NPS                 0\n",
       "CSI_1             403\n",
       "CSI_2             480\n",
       "CSI_3            2198\n",
       "CSI_4            1204\n",
       "CSI_5            1441\n",
       "CSI_6            1705\n",
       "CSI_7             317\n",
       "CSI_8            1839\n",
       "CSI_9            2590\n",
       "CSI_10           1701\n",
       "IMP_P1            125\n",
       "IMP_P2            164\n",
       "IMP_P3             97\n",
       "IMP_P4            392\n",
       "IMP_P5            700\n",
       "IMP_P6            232\n",
       "IMP_P7            618\n",
       "IMP_P8            174\n",
       "IMP_P9            731\n",
       "IMP_S1             70\n",
       "IMP_S2            103\n",
       "IMP_S3            512\n",
       "IMP_S4            473\n",
       "IMP_S5            284\n",
       "IMP_S6             56\n",
       "IMP_S7            303\n",
       "IMP_S8            124\n",
       "IMP_S9            491\n",
       "IMP_S10           815\n",
       "IMP_S11          1111\n",
       "IMP_R              70\n",
       "IMP_MOB1          131\n",
       "IMP_MOB2           83\n",
       "IMP_MOB3          114\n",
       "IMP_MOB4          306\n",
       "IMP_MOB5          273\n",
       "IMP_MOB6          158\n",
       "IMP_MOB7          170\n",
       "IMP_MOB8          148\n",
       "IMP_MOB9          145\n",
       "Пол                 0\n",
       "Возраст             0\n",
       "Тип занятости       0\n",
       "dtype: int64"
      ]
     },
     "execution_count": 3,
     "metadata": {},
     "output_type": "execute_result"
    }
   ],
   "source": [
    "banks.isna().sum()"
   ]
  },
  {
   "cell_type": "code",
   "execution_count": 4,
   "id": "025a67f7",
   "metadata": {},
   "outputs": [
    {
     "data": {
      "text/html": [
       "<div>\n",
       "<style scoped>\n",
       "    .dataframe tbody tr th:only-of-type {\n",
       "        vertical-align: middle;\n",
       "    }\n",
       "\n",
       "    .dataframe tbody tr th {\n",
       "        vertical-align: top;\n",
       "    }\n",
       "\n",
       "    .dataframe thead th {\n",
       "        text-align: right;\n",
       "    }\n",
       "</style>\n",
       "<table border=\"1\" class=\"dataframe\">\n",
       "  <thead>\n",
       "    <tr style=\"text-align: right;\">\n",
       "      <th></th>\n",
       "      <th>Банк</th>\n",
       "      <th>Сегмент</th>\n",
       "      <th>Поведение</th>\n",
       "      <th>NPS</th>\n",
       "      <th>CSI_1</th>\n",
       "      <th>CSI_2</th>\n",
       "      <th>CSI_3</th>\n",
       "      <th>CSI_4</th>\n",
       "      <th>CSI_5</th>\n",
       "      <th>CSI_6</th>\n",
       "      <th>...</th>\n",
       "      <th>IMP_MOB3</th>\n",
       "      <th>IMP_MOB4</th>\n",
       "      <th>IMP_MOB5</th>\n",
       "      <th>IMP_MOB6</th>\n",
       "      <th>IMP_MOB7</th>\n",
       "      <th>IMP_MOB8</th>\n",
       "      <th>IMP_MOB9</th>\n",
       "      <th>Пол</th>\n",
       "      <th>Возраст</th>\n",
       "      <th>Тип занятости</th>\n",
       "    </tr>\n",
       "  </thead>\n",
       "  <tbody>\n",
       "    <tr>\n",
       "      <th>26</th>\n",
       "      <td>Банк B</td>\n",
       "      <td>Premium</td>\n",
       "      <td>Transactor</td>\n",
       "      <td>7</td>\n",
       "      <td>4.0</td>\n",
       "      <td>4.0</td>\n",
       "      <td>3.0</td>\n",
       "      <td>3.0</td>\n",
       "      <td>4.0</td>\n",
       "      <td>4.0</td>\n",
       "      <td>...</td>\n",
       "      <td>5.0</td>\n",
       "      <td>5.0</td>\n",
       "      <td>5.0</td>\n",
       "      <td>5.0</td>\n",
       "      <td>5.0</td>\n",
       "      <td>2.0</td>\n",
       "      <td>4.0</td>\n",
       "      <td>Мужской</td>\n",
       "      <td>56-65</td>\n",
       "      <td>Собственник бизнеса</td>\n",
       "    </tr>\n",
       "    <tr>\n",
       "      <th>30</th>\n",
       "      <td>Банк B</td>\n",
       "      <td>TOP Premium</td>\n",
       "      <td>Transactor</td>\n",
       "      <td>10</td>\n",
       "      <td>5.0</td>\n",
       "      <td>5.0</td>\n",
       "      <td>5.0</td>\n",
       "      <td>5.0</td>\n",
       "      <td>5.0</td>\n",
       "      <td>5.0</td>\n",
       "      <td>...</td>\n",
       "      <td>5.0</td>\n",
       "      <td>5.0</td>\n",
       "      <td>5.0</td>\n",
       "      <td>5.0</td>\n",
       "      <td>5.0</td>\n",
       "      <td>3.0</td>\n",
       "      <td>4.0</td>\n",
       "      <td>Женский</td>\n",
       "      <td>66+</td>\n",
       "      <td>Работник по найму в частной организации</td>\n",
       "    </tr>\n",
       "    <tr>\n",
       "      <th>33</th>\n",
       "      <td>Банк B</td>\n",
       "      <td>Premium</td>\n",
       "      <td>Transactor</td>\n",
       "      <td>10</td>\n",
       "      <td>5.0</td>\n",
       "      <td>5.0</td>\n",
       "      <td>5.0</td>\n",
       "      <td>5.0</td>\n",
       "      <td>5.0</td>\n",
       "      <td>5.0</td>\n",
       "      <td>...</td>\n",
       "      <td>4.0</td>\n",
       "      <td>5.0</td>\n",
       "      <td>4.0</td>\n",
       "      <td>4.0</td>\n",
       "      <td>4.0</td>\n",
       "      <td>4.0</td>\n",
       "      <td>4.0</td>\n",
       "      <td>Мужской</td>\n",
       "      <td>36-45</td>\n",
       "      <td>Работник по найму в частной организации</td>\n",
       "    </tr>\n",
       "    <tr>\n",
       "      <th>47</th>\n",
       "      <td>Банк B</td>\n",
       "      <td>Premium</td>\n",
       "      <td>Transactor</td>\n",
       "      <td>10</td>\n",
       "      <td>5.0</td>\n",
       "      <td>5.0</td>\n",
       "      <td>5.0</td>\n",
       "      <td>5.0</td>\n",
       "      <td>5.0</td>\n",
       "      <td>5.0</td>\n",
       "      <td>...</td>\n",
       "      <td>4.0</td>\n",
       "      <td>4.0</td>\n",
       "      <td>5.0</td>\n",
       "      <td>5.0</td>\n",
       "      <td>5.0</td>\n",
       "      <td>4.0</td>\n",
       "      <td>5.0</td>\n",
       "      <td>Мужской</td>\n",
       "      <td>36-45</td>\n",
       "      <td>Работник по найму в частной организации</td>\n",
       "    </tr>\n",
       "    <tr>\n",
       "      <th>51</th>\n",
       "      <td>Банк B</td>\n",
       "      <td>TOP Premium</td>\n",
       "      <td>Passive</td>\n",
       "      <td>10</td>\n",
       "      <td>5.0</td>\n",
       "      <td>5.0</td>\n",
       "      <td>5.0</td>\n",
       "      <td>4.0</td>\n",
       "      <td>5.0</td>\n",
       "      <td>5.0</td>\n",
       "      <td>...</td>\n",
       "      <td>4.0</td>\n",
       "      <td>3.0</td>\n",
       "      <td>4.0</td>\n",
       "      <td>5.0</td>\n",
       "      <td>3.0</td>\n",
       "      <td>3.0</td>\n",
       "      <td>5.0</td>\n",
       "      <td>Женский</td>\n",
       "      <td>36-45</td>\n",
       "      <td>Работник по найму в частной организации</td>\n",
       "    </tr>\n",
       "    <tr>\n",
       "      <th>...</th>\n",
       "      <td>...</td>\n",
       "      <td>...</td>\n",
       "      <td>...</td>\n",
       "      <td>...</td>\n",
       "      <td>...</td>\n",
       "      <td>...</td>\n",
       "      <td>...</td>\n",
       "      <td>...</td>\n",
       "      <td>...</td>\n",
       "      <td>...</td>\n",
       "      <td>...</td>\n",
       "      <td>...</td>\n",
       "      <td>...</td>\n",
       "      <td>...</td>\n",
       "      <td>...</td>\n",
       "      <td>...</td>\n",
       "      <td>...</td>\n",
       "      <td>...</td>\n",
       "      <td>...</td>\n",
       "      <td>...</td>\n",
       "      <td>...</td>\n",
       "    </tr>\n",
       "    <tr>\n",
       "      <th>5053</th>\n",
       "      <td>Банк J</td>\n",
       "      <td>TOP Premium</td>\n",
       "      <td>Passive</td>\n",
       "      <td>7</td>\n",
       "      <td>4.0</td>\n",
       "      <td>4.0</td>\n",
       "      <td>4.0</td>\n",
       "      <td>4.0</td>\n",
       "      <td>4.0</td>\n",
       "      <td>4.0</td>\n",
       "      <td>...</td>\n",
       "      <td>4.0</td>\n",
       "      <td>5.0</td>\n",
       "      <td>4.0</td>\n",
       "      <td>5.0</td>\n",
       "      <td>4.0</td>\n",
       "      <td>4.0</td>\n",
       "      <td>4.0</td>\n",
       "      <td>Мужской</td>\n",
       "      <td>56-65</td>\n",
       "      <td>Собственник бизнеса</td>\n",
       "    </tr>\n",
       "    <tr>\n",
       "      <th>5060</th>\n",
       "      <td>Банк J</td>\n",
       "      <td>TOP Premium</td>\n",
       "      <td>Passive</td>\n",
       "      <td>10</td>\n",
       "      <td>4.0</td>\n",
       "      <td>4.0</td>\n",
       "      <td>4.0</td>\n",
       "      <td>5.0</td>\n",
       "      <td>5.0</td>\n",
       "      <td>5.0</td>\n",
       "      <td>...</td>\n",
       "      <td>4.0</td>\n",
       "      <td>5.0</td>\n",
       "      <td>4.0</td>\n",
       "      <td>5.0</td>\n",
       "      <td>5.0</td>\n",
       "      <td>3.0</td>\n",
       "      <td>5.0</td>\n",
       "      <td>Мужской</td>\n",
       "      <td>46-55</td>\n",
       "      <td>Собственник бизнеса</td>\n",
       "    </tr>\n",
       "    <tr>\n",
       "      <th>5079</th>\n",
       "      <td>Банк J</td>\n",
       "      <td>TOP Premium</td>\n",
       "      <td>Passive</td>\n",
       "      <td>10</td>\n",
       "      <td>4.0</td>\n",
       "      <td>4.0</td>\n",
       "      <td>4.0</td>\n",
       "      <td>4.0</td>\n",
       "      <td>4.0</td>\n",
       "      <td>4.0</td>\n",
       "      <td>...</td>\n",
       "      <td>4.0</td>\n",
       "      <td>2.0</td>\n",
       "      <td>2.0</td>\n",
       "      <td>3.0</td>\n",
       "      <td>3.0</td>\n",
       "      <td>3.0</td>\n",
       "      <td>4.0</td>\n",
       "      <td>Мужской</td>\n",
       "      <td>46-55</td>\n",
       "      <td>Работник по найму в государственной организации</td>\n",
       "    </tr>\n",
       "    <tr>\n",
       "      <th>5080</th>\n",
       "      <td>Банк J</td>\n",
       "      <td>TOP Premium</td>\n",
       "      <td>Passive</td>\n",
       "      <td>10</td>\n",
       "      <td>5.0</td>\n",
       "      <td>5.0</td>\n",
       "      <td>4.0</td>\n",
       "      <td>5.0</td>\n",
       "      <td>5.0</td>\n",
       "      <td>5.0</td>\n",
       "      <td>...</td>\n",
       "      <td>5.0</td>\n",
       "      <td>2.0</td>\n",
       "      <td>5.0</td>\n",
       "      <td>5.0</td>\n",
       "      <td>5.0</td>\n",
       "      <td>1.0</td>\n",
       "      <td>5.0</td>\n",
       "      <td>Мужской</td>\n",
       "      <td>56-65</td>\n",
       "      <td>Работник по найму в частной организации</td>\n",
       "    </tr>\n",
       "    <tr>\n",
       "      <th>5091</th>\n",
       "      <td>Банк J</td>\n",
       "      <td>TOP Premium</td>\n",
       "      <td>Passive</td>\n",
       "      <td>0</td>\n",
       "      <td>5.0</td>\n",
       "      <td>5.0</td>\n",
       "      <td>4.0</td>\n",
       "      <td>5.0</td>\n",
       "      <td>5.0</td>\n",
       "      <td>5.0</td>\n",
       "      <td>...</td>\n",
       "      <td>5.0</td>\n",
       "      <td>4.0</td>\n",
       "      <td>4.0</td>\n",
       "      <td>5.0</td>\n",
       "      <td>4.0</td>\n",
       "      <td>3.0</td>\n",
       "      <td>3.0</td>\n",
       "      <td>Мужской</td>\n",
       "      <td>66+</td>\n",
       "      <td>Пенсионер</td>\n",
       "    </tr>\n",
       "  </tbody>\n",
       "</table>\n",
       "<p>499 rows × 47 columns</p>\n",
       "</div>"
      ],
      "text/plain": [
       "        Банк      Сегмент   Поведение  NPS  CSI_1  CSI_2  CSI_3  CSI_4  CSI_5  \\\n",
       "26    Банк B      Premium  Transactor    7    4.0    4.0    3.0    3.0    4.0   \n",
       "30    Банк B  TOP Premium  Transactor   10    5.0    5.0    5.0    5.0    5.0   \n",
       "33    Банк B      Premium  Transactor   10    5.0    5.0    5.0    5.0    5.0   \n",
       "47    Банк B      Premium  Transactor   10    5.0    5.0    5.0    5.0    5.0   \n",
       "51    Банк B  TOP Premium     Passive   10    5.0    5.0    5.0    4.0    5.0   \n",
       "...      ...          ...         ...  ...    ...    ...    ...    ...    ...   \n",
       "5053  Банк J  TOP Premium     Passive    7    4.0    4.0    4.0    4.0    4.0   \n",
       "5060  Банк J  TOP Premium     Passive   10    4.0    4.0    4.0    5.0    5.0   \n",
       "5079  Банк J  TOP Premium     Passive   10    4.0    4.0    4.0    4.0    4.0   \n",
       "5080  Банк J  TOP Premium     Passive   10    5.0    5.0    4.0    5.0    5.0   \n",
       "5091  Банк J  TOP Premium     Passive    0    5.0    5.0    4.0    5.0    5.0   \n",
       "\n",
       "      CSI_6  ...  IMP_MOB3  IMP_MOB4  IMP_MOB5  IMP_MOB6  IMP_MOB7  IMP_MOB8  \\\n",
       "26      4.0  ...       5.0       5.0       5.0       5.0       5.0       2.0   \n",
       "30      5.0  ...       5.0       5.0       5.0       5.0       5.0       3.0   \n",
       "33      5.0  ...       4.0       5.0       4.0       4.0       4.0       4.0   \n",
       "47      5.0  ...       4.0       4.0       5.0       5.0       5.0       4.0   \n",
       "51      5.0  ...       4.0       3.0       4.0       5.0       3.0       3.0   \n",
       "...     ...  ...       ...       ...       ...       ...       ...       ...   \n",
       "5053    4.0  ...       4.0       5.0       4.0       5.0       4.0       4.0   \n",
       "5060    5.0  ...       4.0       5.0       4.0       5.0       5.0       3.0   \n",
       "5079    4.0  ...       4.0       2.0       2.0       3.0       3.0       3.0   \n",
       "5080    5.0  ...       5.0       2.0       5.0       5.0       5.0       1.0   \n",
       "5091    5.0  ...       5.0       4.0       4.0       5.0       4.0       3.0   \n",
       "\n",
       "      IMP_MOB9      Пол  Возраст  \\\n",
       "26         4.0  Мужской    56-65   \n",
       "30         4.0  Женский      66+   \n",
       "33         4.0  Мужской    36-45   \n",
       "47         5.0  Мужской    36-45   \n",
       "51         5.0  Женский    36-45   \n",
       "...        ...      ...      ...   \n",
       "5053       4.0  Мужской    56-65   \n",
       "5060       5.0  Мужской    46-55   \n",
       "5079       4.0  Мужской    46-55   \n",
       "5080       5.0  Мужской    56-65   \n",
       "5091       3.0  Мужской      66+   \n",
       "\n",
       "                                        Тип занятости  \n",
       "26                                Собственник бизнеса  \n",
       "30            Работник по найму в частной организации  \n",
       "33            Работник по найму в частной организации  \n",
       "47            Работник по найму в частной организации  \n",
       "51            Работник по найму в частной организации  \n",
       "...                                               ...  \n",
       "5053                              Собственник бизнеса  \n",
       "5060                              Собственник бизнеса  \n",
       "5079  Работник по найму в государственной организации  \n",
       "5080          Работник по найму в частной организации  \n",
       "5091                                        Пенсионер  \n",
       "\n",
       "[499 rows x 47 columns]"
      ]
     },
     "execution_count": 4,
     "metadata": {},
     "output_type": "execute_result"
    }
   ],
   "source": [
    "# Light Premium представляет собой переходный сегмент из розницы в премиум, поэтому в ходе анализа им можно пожертвовать, т.к.поведенческие характеристики довольно размытые\n",
    "banks_cut = banks.dropna()\n",
    "banks_cut"
   ]
  },
  {
   "cell_type": "markdown",
   "id": "0ad1e015",
   "metadata": {},
   "source": [
    "### Вопросы для исследования:\n",
    "\n",
    "#### Одинаковая ли в среднем удовлетворенность (CSI) клиентов премиальным обслуживанием в разных сегментах?\n",
    "#### Какие факторы оказывают наибольшее влияние на удовлетворенность и готовность рекомендовать банк потребителей разного профиля в сегменте Top Premium?"
   ]
  },
  {
   "cell_type": "code",
   "execution_count": 5,
   "id": "3c1ea114",
   "metadata": {},
   "outputs": [],
   "source": [
    "# Для ответа на первый вопрос протестируем гипотезу H0: Средний NPS по сегментам не отличается.\n",
    "# Для удобства не будем обращать внимания на профиль клиента (Transactor, Investor, Passive), будем рассматривать только сам сегмент\n",
    "# Отфильтруем данные по сегментам и сохраним в два датасета\n",
    "top = banks_cut[banks_cut['Сегмент'] == 'TOP Premium']\n",
    "premium = banks_cut[banks_cut['Сегмент'] == 'Premium']"
   ]
  },
  {
   "cell_type": "markdown",
   "id": "732c9fa0",
   "metadata": {},
   "source": [
    "### Проверим нормальность распределения наших выборок по признаку NPS"
   ]
  },
  {
   "cell_type": "code",
   "execution_count": 6,
   "id": "4c6f8a5e",
   "metadata": {},
   "outputs": [],
   "source": [
    "from scipy import stats\n",
    "import scipy as scipy\n",
    "import numpy as np\n",
    "import matplotlib.pyplot as plt"
   ]
  },
  {
   "cell_type": "code",
   "execution_count": 7,
   "id": "d877b325",
   "metadata": {},
   "outputs": [],
   "source": [
    "top_NPS = top['NPS']"
   ]
  },
  {
   "cell_type": "code",
   "execution_count": 8,
   "id": "ef4162f9",
   "metadata": {},
   "outputs": [],
   "source": [
    "premium_NPS = premium['NPS']"
   ]
  },
  {
   "cell_type": "code",
   "execution_count": 9,
   "id": "796bd82e",
   "metadata": {},
   "outputs": [
    {
     "data": {
      "text/plain": [
       "<Figure size 432x288 with 0 Axes>"
      ]
     },
     "execution_count": 9,
     "metadata": {},
     "output_type": "execute_result"
    },
    {
     "data": {
      "image/png": "[encoded data removed]",
      "text/plain": [
       "<Figure size 432x288 with 1 Axes>"
      ]
     },
     "metadata": {
      "needs_background": "light"
     },
     "output_type": "display_data"
    },
    {
     "data": {
      "text/plain": [
       "<Figure size 432x288 with 0 Axes>"
      ]
     },
     "metadata": {},
     "output_type": "display_data"
    }
   ],
   "source": [
    "stats.probplot(top_NPS, plot = plt)\n",
    "plt.figure()"
   ]
  },
  {
   "cell_type": "code",
   "execution_count": 10,
   "id": "5565d09a",
   "metadata": {},
   "outputs": [
    {
     "data": {
      "text/plain": [
       "<Figure size 432x288 with 0 Axes>"
      ]
     },
     "execution_count": 10,
     "metadata": {},
     "output_type": "execute_result"
    },
    {
     "data": {
      "image/png": "[encoded data removed]",
      "text/plain": [
       "<Figure size 432x288 with 1 Axes>"
      ]
     },
     "metadata": {
      "needs_background": "light"
     },
     "output_type": "display_data"
    },
    {
     "data": {
      "text/plain": [
       "<Figure size 432x288 with 0 Axes>"
      ]
     },
     "metadata": {},
     "output_type": "display_data"
    }
   ],
   "source": [
    "stats.probplot(premium_NPS, plot = plt)\n",
    "plt.figure()"
   ]
  },
  {
   "cell_type": "markdown",
   "id": "4a90e481",
   "metadata": {},
   "source": [
    "### Распределения в обeих выборках не являются нормальными, попытаемся их нормировать с помощью извлечения квадратного корня"
   ]
  },
  {
   "cell_type": "code",
   "execution_count": 11,
   "id": "3e5b616f",
   "metadata": {},
   "outputs": [],
   "source": [
    "top_sqrt = np.sqrt(top_NPS)"
   ]
  },
  {
   "cell_type": "code",
   "execution_count": 12,
   "id": "7e3fc4c2",
   "metadata": {},
   "outputs": [
    {
     "data": {
      "text/plain": [
       "<Figure size 432x288 with 0 Axes>"
      ]
     },
     "execution_count": 12,
     "metadata": {},
     "output_type": "execute_result"
    },
    {
     "data": {
      "image/png": "[encoded data removed]",
      "text/plain": [
       "<Figure size 432x288 with 1 Axes>"
      ]
     },
     "metadata": {
      "needs_background": "light"
     },
     "output_type": "display_data"
    },
    {
     "data": {
      "text/plain": [
       "<Figure size 432x288 with 0 Axes>"
      ]
     },
     "metadata": {},
     "output_type": "display_data"
    }
   ],
   "source": [
    "stats.probplot(top_sqrt, plot = plt)\n",
    "plt.figure()"
   ]
  },
  {
   "cell_type": "code",
   "execution_count": 13,
   "id": "e5728d41",
   "metadata": {},
   "outputs": [],
   "source": [
    "premium_sqrt = np.sqrt(premium_NPS)"
   ]
  },
  {
   "cell_type": "code",
   "execution_count": 14,
   "id": "ff052571",
   "metadata": {},
   "outputs": [
    {
     "data": {
      "text/plain": [
       "<Figure size 432x288 with 0 Axes>"
      ]
     },
     "execution_count": 14,
     "metadata": {},
     "output_type": "execute_result"
    },
    {
     "data": {
      "image/png": "[encoded data removed]",
      "text/plain": [
       "<Figure size 432x288 with 1 Axes>"
      ]
     },
     "metadata": {
      "needs_background": "light"
     },
     "output_type": "display_data"
    },
    {
     "data": {
      "text/plain": [
       "<Figure size 432x288 with 0 Axes>"
      ]
     },
     "metadata": {},
     "output_type": "display_data"
    }
   ],
   "source": [
    "stats.probplot(premium_sqrt, plot = plt)\n",
    "plt.figure()"
   ]
  },
  {
   "cell_type": "code",
   "execution_count": 15,
   "id": "e158b97c",
   "metadata": {},
   "outputs": [],
   "source": [
    "top_cbrt = np.cbrt(top_NPS)"
   ]
  },
  {
   "cell_type": "code",
   "execution_count": 16,
   "id": "17077728",
   "metadata": {},
   "outputs": [
    {
     "data": {
      "text/plain": [
       "<Figure size 432x288 with 0 Axes>"
      ]
     },
     "execution_count": 16,
     "metadata": {},
     "output_type": "execute_result"
    },
    {
     "data": {
      "image/png": "[encoded data removed]",
      "text/plain": [
       "<Figure size 432x288 with 1 Axes>"
      ]
     },
     "metadata": {
      "needs_background": "light"
     },
     "output_type": "display_data"
    },
    {
     "data": {
      "text/plain": [
       "<Figure size 432x288 with 0 Axes>"
      ]
     },
     "metadata": {},
     "output_type": "display_data"
    }
   ],
   "source": [
    "stats.probplot(top_cbrt, plot = plt)\n",
    "plt.figure()"
   ]
  },
  {
   "cell_type": "code",
   "execution_count": 17,
   "id": "67851454",
   "metadata": {},
   "outputs": [],
   "source": [
    "premium_cbrt = np.cbrt(premium_NPS)"
   ]
  },
  {
   "cell_type": "code",
   "execution_count": 18,
   "id": "b6fc49eb",
   "metadata": {},
   "outputs": [
    {
     "data": {
      "text/plain": [
       "<Figure size 432x288 with 0 Axes>"
      ]
     },
     "execution_count": 18,
     "metadata": {},
     "output_type": "execute_result"
    },
    {
     "data": {
      "image/png": "[encoded data removed]",
      "text/plain": [
       "<Figure size 432x288 with 1 Axes>"
      ]
     },
     "metadata": {
      "needs_background": "light"
     },
     "output_type": "display_data"
    },
    {
     "data": {
      "text/plain": [
       "<Figure size 432x288 with 0 Axes>"
      ]
     },
     "metadata": {},
     "output_type": "display_data"
    }
   ],
   "source": [
    "stats.probplot(premium_cbrt, plot = plt)\n",
    "plt.figure()"
   ]
  },
  {
   "cell_type": "markdown",
   "id": "20b54a6d",
   "metadata": {},
   "source": [
    "### Извлечение корня третьей степени сработало лучше, однако распределения всё ещё нельзя считать нормальными"
   ]
  },
  {
   "cell_type": "code",
   "execution_count": 19,
   "id": "70cc51aa",
   "metadata": {},
   "outputs": [],
   "source": [
    "import seaborn as sns"
   ]
  },
  {
   "cell_type": "code",
   "execution_count": 20,
   "id": "07ab32c5",
   "metadata": {},
   "outputs": [
    {
     "data": {
      "text/plain": [
       "<AxesSubplot:xlabel='NPS', ylabel='Density'>"
      ]
     },
     "execution_count": 20,
     "metadata": {},
     "output_type": "execute_result"
    },
    {
     "data": {
      "image/png": "[encoded data removed]",
      "text/plain": [
       "<Figure size 432x288 with 1 Axes>"
      ]
     },
     "metadata": {
      "needs_background": "light"
     },
     "output_type": "display_data"
    }
   ],
   "source": [
    "sns.kdeplot(top_cbrt)"
   ]
  },
  {
   "cell_type": "code",
   "execution_count": 21,
   "id": "0f624f7c",
   "metadata": {},
   "outputs": [
    {
     "data": {
      "text/plain": [
       "<AxesSubplot:xlabel='NPS', ylabel='Density'>"
      ]
     },
     "execution_count": 21,
     "metadata": {},
     "output_type": "execute_result"
    },
    {
     "data": {
      "image/png": "[encoded data removed]",
      "text/plain": [
       "<Figure size 432x288 with 1 Axes>"
      ]
     },
     "metadata": {
      "needs_background": "light"
     },
     "output_type": "display_data"
    }
   ],
   "source": [
    "sns.kdeplot(premium_cbrt)"
   ]
  },
  {
   "cell_type": "markdown",
   "id": "2929a972",
   "metadata": {},
   "source": [
    "### Коэффициенты эксцесса и асимметрии это подтверждают"
   ]
  },
  {
   "cell_type": "code",
   "execution_count": 22,
   "id": "24ca3555",
   "metadata": {},
   "outputs": [],
   "source": [
    "from scipy.stats import kurtosis\n",
    "from scipy.stats import skew"
   ]
  },
  {
   "cell_type": "code",
   "execution_count": 23,
   "id": "30cd9982",
   "metadata": {},
   "outputs": [
    {
     "name": "stdout",
     "output_type": "stream",
     "text": [
      "Эксцесс 4.182422505063997\n",
      "Асимметрия -2.3130505105145405\n"
     ]
    }
   ],
   "source": [
    "print('Эксцесс', kurtosis(top_cbrt))\n",
    "print('Асимметрия', skew(top_cbrt))"
   ]
  },
  {
   "cell_type": "code",
   "execution_count": 24,
   "id": "687072d4",
   "metadata": {},
   "outputs": [
    {
     "name": "stdout",
     "output_type": "stream",
     "text": [
      "Эксцесс 11.989744972189394\n",
      "Асимметрия -3.456092483165856\n"
     ]
    }
   ],
   "source": [
    "print('Эксцесс', kurtosis(premium_cbrt))\n",
    "print('Асимметрия', skew(premium_cbrt))"
   ]
  },
  {
   "cell_type": "markdown",
   "id": "328f10a6",
   "metadata": {},
   "source": [
    "### Протестируем гипотезу с помощью коэффициента Манна-Уитни"
   ]
  },
  {
   "cell_type": "code",
   "execution_count": 25,
   "id": "89c5511d",
   "metadata": {},
   "outputs": [
    {
     "data": {
      "text/plain": [
       "MannwhitneyuResult(statistic=26721.0, pvalue=0.4696491088118776)"
      ]
     },
     "execution_count": 25,
     "metadata": {},
     "output_type": "execute_result"
    }
   ],
   "source": [
    "stats.mannwhitneyu(top_NPS, premium_NPS)"
   ]
  },
  {
   "cell_type": "markdown",
   "id": "cebc6d63",
   "metadata": {},
   "source": [
    "### Вывод: Гипотезу о равенстве принимаем, степень удовлетворенности не отличается в зависимости от сегмента\n",
    "### Разница действительно несущественная"
   ]
  },
  {
   "cell_type": "code",
   "execution_count": 26,
   "id": "a2050fee",
   "metadata": {},
   "outputs": [
    {
     "data": {
      "text/plain": [
       "7.8343373493975905"
      ]
     },
     "execution_count": 26,
     "metadata": {},
     "output_type": "execute_result"
    }
   ],
   "source": [
    "top_NPS.mean()"
   ]
  },
  {
   "cell_type": "code",
   "execution_count": 27,
   "id": "46bf5335",
   "metadata": {},
   "outputs": [
    {
     "data": {
      "text/plain": [
       "8.347305389221557"
      ]
     },
     "execution_count": 27,
     "metadata": {},
     "output_type": "execute_result"
    }
   ],
   "source": [
    "premium_NPS.mean()"
   ]
  },
  {
   "cell_type": "markdown",
   "id": "d7b68f6f",
   "metadata": {},
   "source": [
    "### Попробуем с помощью логистической регрессии проследить как оценки CSI влияют на принадлежность респондента к группе Promoters (Оценка NPS >= 9) или к группе Detractors (NPS < = 6), соответственно постараемся ответить на второй вопрос исследования."
   ]
  },
  {
   "cell_type": "code",
   "execution_count": 28,
   "id": "d85e80ac",
   "metadata": {},
   "outputs": [],
   "source": [
    "# Уберем из датасета строки, содержащие оценки NPS 7 и 8\n",
    "banks_lreg = banks_cut[(banks_cut['NPS'] >= 9) | (banks_cut['NPS'] <= 6)]"
   ]
  },
  {
   "cell_type": "code",
   "execution_count": 29,
   "id": "9e8ee032",
   "metadata": {},
   "outputs": [
    {
     "data": {
      "text/plain": [
       "array([10,  4,  9,  2,  5,  6,  0,  1,  3], dtype=int64)"
      ]
     },
     "execution_count": 29,
     "metadata": {},
     "output_type": "execute_result"
    }
   ],
   "source": [
    "banks_lreg.NPS.unique()"
   ]
  },
  {
   "cell_type": "code",
   "execution_count": 30,
   "id": "93b9a7a6",
   "metadata": {},
   "outputs": [],
   "source": [
    "# Создадим бинарную переменную - NPS>=9 - 1, NPS<=6 - 0\n",
    "def get_NPS_cat(NPS):\n",
    "    if NPS >= 9:\n",
    "        return '1'\n",
    "    elif NPS <= 6:\n",
    "        return '0'\n",
    "    else:\n",
    "        return NPS"
   ]
  },
  {
   "cell_type": "code",
   "execution_count": 31,
   "id": "cc9e55da",
   "metadata": {},
   "outputs": [
    {
     "name": "stderr",
     "output_type": "stream",
     "text": [
      "C:\\Users\\hp\\AppData\\Local\\Temp\\ipykernel_14136\\1024414574.py:1: SettingWithCopyWarning: \n",
      "A value is trying to be set on a copy of a slice from a DataFrame.\n",
      "Try using .loc[row_indexer,col_indexer] = value instead\n",
      "\n",
      "See the caveats in the documentation: https://pandas.pydata.org/pandas-docs/stable/user_guide/indexing.html#returning-a-view-versus-a-copy\n",
      "  banks_lreg['NPS_cat'] = banks_lreg['NPS'].apply(get_NPS_cat)\n"
     ]
    }
   ],
   "source": [
    "banks_lreg['NPS_cat'] = banks_lreg['NPS'].apply(get_NPS_cat)"
   ]
  },
  {
   "cell_type": "code",
   "execution_count": 32,
   "id": "ffc3265b",
   "metadata": {
    "scrolled": true
   },
   "outputs": [
    {
     "name": "stdout",
     "output_type": "stream",
     "text": [
      "<class 'pandas.core.series.Series'>\n",
      "Int64Index: 424 entries, 30 to 5091\n",
      "Series name: NPS_cat\n",
      "Non-Null Count  Dtype \n",
      "--------------  ----- \n",
      "424 non-null    object\n",
      "dtypes: object(1)\n",
      "memory usage: 6.6+ KB\n"
     ]
    }
   ],
   "source": [
    "banks_lreg.NPS_cat.info()"
   ]
  },
  {
   "cell_type": "code",
   "execution_count": 33,
   "id": "ed6775a8",
   "metadata": {},
   "outputs": [
    {
     "name": "stderr",
     "output_type": "stream",
     "text": [
      "C:\\Users\\hp\\AppData\\Local\\Temp\\ipykernel_14136\\1774919271.py:1: SettingWithCopyWarning: \n",
      "A value is trying to be set on a copy of a slice from a DataFrame.\n",
      "Try using .loc[row_indexer,col_indexer] = value instead\n",
      "\n",
      "See the caveats in the documentation: https://pandas.pydata.org/pandas-docs/stable/user_guide/indexing.html#returning-a-view-versus-a-copy\n",
      "  banks_lreg['NPS_cat'] = banks_lreg['NPS_cat'].astype(int)\n"
     ]
    }
   ],
   "source": [
    "banks_lreg['NPS_cat'] = banks_lreg['NPS_cat'].astype(int)"
   ]
  },
  {
   "cell_type": "code",
   "execution_count": 34,
   "id": "898db888",
   "metadata": {},
   "outputs": [],
   "source": [
    "import sklearn\n",
    "from sklearn import preprocessing\n",
    "from sklearn.linear_model import LogisticRegression\n",
    "from sklearn.model_selection import train_test_split, cross_val_predict\n",
    "\n",
    "from sklearn import metrics\n",
    "from sklearn.metrics import confusion_matrix, plot_confusion_matrix, precision_score, recall_score"
   ]
  },
  {
   "cell_type": "code",
   "execution_count": 35,
   "id": "b743757e",
   "metadata": {},
   "outputs": [],
   "source": [
    "import statsmodels.api as sm"
   ]
  },
  {
   "cell_type": "code",
   "execution_count": 36,
   "id": "f7052e50",
   "metadata": {},
   "outputs": [
    {
     "data": {
      "text/html": [
       "<div>\n",
       "<style scoped>\n",
       "    .dataframe tbody tr th:only-of-type {\n",
       "        vertical-align: middle;\n",
       "    }\n",
       "\n",
       "    .dataframe tbody tr th {\n",
       "        vertical-align: top;\n",
       "    }\n",
       "\n",
       "    .dataframe thead th {\n",
       "        text-align: right;\n",
       "    }\n",
       "</style>\n",
       "<table border=\"1\" class=\"dataframe\">\n",
       "  <thead>\n",
       "    <tr style=\"text-align: right;\">\n",
       "      <th></th>\n",
       "      <th>Negative (0)</th>\n",
       "      <th>Positive (1)</th>\n",
       "    </tr>\n",
       "  </thead>\n",
       "  <tbody>\n",
       "    <tr>\n",
       "      <th>Negative (0)</th>\n",
       "      <td>TN</td>\n",
       "      <td>FP</td>\n",
       "    </tr>\n",
       "    <tr>\n",
       "      <th>Positive (1)</th>\n",
       "      <td>FN</td>\n",
       "      <td>TP</td>\n",
       "    </tr>\n",
       "  </tbody>\n",
       "</table>\n",
       "</div>"
      ],
      "text/plain": [
       "             Negative (0) Positive (1)\n",
       "Negative (0)           TN           FP\n",
       "Positive (1)           FN           TP"
      ]
     },
     "execution_count": 36,
     "metadata": {},
     "output_type": "execute_result"
    }
   ],
   "source": [
    "ex = pd.DataFrame(data = [['TN', 'FP'],['FN', 'TP']], columns = ['Negative (0)', 'Positive (1)'], index = ['Negative (0)', 'Positive (1)'])\n",
    "ex"
   ]
  },
  {
   "cell_type": "code",
   "execution_count": 37,
   "id": "ac6644f0",
   "metadata": {},
   "outputs": [],
   "source": [
    "y = banks_lreg.NPS_cat.values # чтобы получить не объект из данных, а массив np.array"
   ]
  },
  {
   "cell_type": "code",
   "execution_count": 38,
   "id": "4e40b7f7",
   "metadata": {},
   "outputs": [],
   "source": [
    "X = banks_lreg[['CSI_1', 'CSI_2', 'CSI_3', 'CSI_4', 'CSI_5', 'CSI_6', 'CSI_7', 'CSI_8', 'CSI_9', 'CSI_10']]"
   ]
  },
  {
   "cell_type": "code",
   "execution_count": 39,
   "id": "94bf782c",
   "metadata": {},
   "outputs": [],
   "source": [
    "X_train, X_valid, y_train, y_valid = train_test_split(X, y, test_size = 0.2, random_state=10)"
   ]
  },
  {
   "cell_type": "code",
   "execution_count": 40,
   "id": "fa8ffe49",
   "metadata": {},
   "outputs": [],
   "source": [
    "# нормируем данные\n",
    "from sklearn.preprocessing import StandardScaler"
   ]
  },
  {
   "cell_type": "code",
   "execution_count": 41,
   "id": "0ebbf1d3",
   "metadata": {},
   "outputs": [],
   "source": [
    "z_score_scaler = StandardScaler()\n",
    "\n",
    "z_score_scaler.fit(X_train)\n",
    "\n",
    "X_train_scaled = z_score_scaler.transform(X_train)\n",
    "X_valid_scaled = z_score_scaler.transform(X_valid)"
   ]
  },
  {
   "cell_type": "markdown",
   "id": "ac8fc558",
   "metadata": {},
   "source": [
    "### Строим модель логистической регрессии"
   ]
  },
  {
   "cell_type": "code",
   "execution_count": 43,
   "id": "e72f69db",
   "metadata": {},
   "outputs": [],
   "source": [
    "Log_reg_model = LogisticRegression()"
   ]
  },
  {
   "cell_type": "code",
   "execution_count": 44,
   "id": "d0afeffa",
   "metadata": {},
   "outputs": [
    {
     "data": {
      "text/plain": [
       "LogisticRegression()"
      ]
     },
     "execution_count": 44,
     "metadata": {},
     "output_type": "execute_result"
    }
   ],
   "source": [
    "Log_reg_model.fit(X_train_scaled, y_train)"
   ]
  },
  {
   "cell_type": "code",
   "execution_count": 45,
   "id": "098c0c9b",
   "metadata": {},
   "outputs": [],
   "source": [
    "y_pred = Log_reg_model.predict(X_valid_scaled)\n",
    "y_pred_probs = Log_reg_model.predict_proba(X_valid_scaled)"
   ]
  },
  {
   "cell_type": "code",
   "execution_count": 46,
   "id": "ec619a69",
   "metadata": {},
   "outputs": [
    {
     "name": "stderr",
     "output_type": "stream",
     "text": [
      "C:\\Users\\hp\\AppData\\Local\\Temp\\ipykernel_14136\\1308380984.py:3: FutureWarning: The frame.append method is deprecated and will be removed from pandas in a future version. Use pandas.concat instead.\n",
      "  coef = coef.append({'Coefs' : Log_reg_model.intercept_[0],\n"
     ]
    }
   ],
   "source": [
    "coef = pd.DataFrame({'Coefs' : Log_reg_model.coef_[0],\n",
    "                    'Names' : ['CSI_1', 'CSI_2', 'CSI_3', 'CSI_4', 'CSI_5', 'CSI_6', 'CSI_7', 'CSI_8', 'CSI_9', 'CSI_10']})\n",
    "coef = coef.append({'Coefs' : Log_reg_model.intercept_[0],\n",
    "                   'Names' : 'intercept'}, ignore_index = True)"
   ]
  },
  {
   "cell_type": "code",
   "execution_count": 47,
   "id": "eb2f009c",
   "metadata": {},
   "outputs": [
    {
     "data": {
      "text/html": [
       "<div>\n",
       "<style scoped>\n",
       "    .dataframe tbody tr th:only-of-type {\n",
       "        vertical-align: middle;\n",
       "    }\n",
       "\n",
       "    .dataframe tbody tr th {\n",
       "        vertical-align: top;\n",
       "    }\n",
       "\n",
       "    .dataframe thead th {\n",
       "        text-align: right;\n",
       "    }\n",
       "</style>\n",
       "<table border=\"1\" class=\"dataframe\">\n",
       "  <thead>\n",
       "    <tr style=\"text-align: right;\">\n",
       "      <th></th>\n",
       "      <th>Coefs</th>\n",
       "      <th>Names</th>\n",
       "    </tr>\n",
       "  </thead>\n",
       "  <tbody>\n",
       "    <tr>\n",
       "      <th>0</th>\n",
       "      <td>0.659561</td>\n",
       "      <td>CSI_1</td>\n",
       "    </tr>\n",
       "    <tr>\n",
       "      <th>1</th>\n",
       "      <td>0.315082</td>\n",
       "      <td>CSI_2</td>\n",
       "    </tr>\n",
       "    <tr>\n",
       "      <th>2</th>\n",
       "      <td>0.383174</td>\n",
       "      <td>CSI_3</td>\n",
       "    </tr>\n",
       "    <tr>\n",
       "      <th>3</th>\n",
       "      <td>-0.028031</td>\n",
       "      <td>CSI_4</td>\n",
       "    </tr>\n",
       "    <tr>\n",
       "      <th>4</th>\n",
       "      <td>-0.192406</td>\n",
       "      <td>CSI_5</td>\n",
       "    </tr>\n",
       "    <tr>\n",
       "      <th>5</th>\n",
       "      <td>0.231329</td>\n",
       "      <td>CSI_6</td>\n",
       "    </tr>\n",
       "    <tr>\n",
       "      <th>6</th>\n",
       "      <td>0.043130</td>\n",
       "      <td>CSI_7</td>\n",
       "    </tr>\n",
       "    <tr>\n",
       "      <th>7</th>\n",
       "      <td>-0.387595</td>\n",
       "      <td>CSI_8</td>\n",
       "    </tr>\n",
       "    <tr>\n",
       "      <th>8</th>\n",
       "      <td>0.212558</td>\n",
       "      <td>CSI_9</td>\n",
       "    </tr>\n",
       "    <tr>\n",
       "      <th>9</th>\n",
       "      <td>0.627643</td>\n",
       "      <td>CSI_10</td>\n",
       "    </tr>\n",
       "    <tr>\n",
       "      <th>10</th>\n",
       "      <td>1.488224</td>\n",
       "      <td>intercept</td>\n",
       "    </tr>\n",
       "  </tbody>\n",
       "</table>\n",
       "</div>"
      ],
      "text/plain": [
       "       Coefs      Names\n",
       "0   0.659561      CSI_1\n",
       "1   0.315082      CSI_2\n",
       "2   0.383174      CSI_3\n",
       "3  -0.028031      CSI_4\n",
       "4  -0.192406      CSI_5\n",
       "5   0.231329      CSI_6\n",
       "6   0.043130      CSI_7\n",
       "7  -0.387595      CSI_8\n",
       "8   0.212558      CSI_9\n",
       "9   0.627643     CSI_10\n",
       "10  1.488224  intercept"
      ]
     },
     "execution_count": 47,
     "metadata": {},
     "output_type": "execute_result"
    }
   ],
   "source": [
    "coef"
   ]
  },
  {
   "cell_type": "code",
   "execution_count": 48,
   "id": "c71d2eec",
   "metadata": {
    "scrolled": true
   },
   "outputs": [
    {
     "data": {
      "text/html": [
       "<div>\n",
       "<style scoped>\n",
       "    .dataframe tbody tr th:only-of-type {\n",
       "        vertical-align: middle;\n",
       "    }\n",
       "\n",
       "    .dataframe tbody tr th {\n",
       "        vertical-align: top;\n",
       "    }\n",
       "\n",
       "    .dataframe thead th {\n",
       "        text-align: right;\n",
       "    }\n",
       "</style>\n",
       "<table border=\"1\" class=\"dataframe\">\n",
       "  <thead>\n",
       "    <tr style=\"text-align: right;\">\n",
       "      <th></th>\n",
       "      <th>Coefs</th>\n",
       "      <th>Names</th>\n",
       "      <th>Odds coef</th>\n",
       "    </tr>\n",
       "  </thead>\n",
       "  <tbody>\n",
       "    <tr>\n",
       "      <th>0</th>\n",
       "      <td>0.659561</td>\n",
       "      <td>CSI_1</td>\n",
       "      <td>1.933942</td>\n",
       "    </tr>\n",
       "    <tr>\n",
       "      <th>1</th>\n",
       "      <td>0.315082</td>\n",
       "      <td>CSI_2</td>\n",
       "      <td>1.370371</td>\n",
       "    </tr>\n",
       "    <tr>\n",
       "      <th>2</th>\n",
       "      <td>0.383174</td>\n",
       "      <td>CSI_3</td>\n",
       "      <td>1.466934</td>\n",
       "    </tr>\n",
       "    <tr>\n",
       "      <th>3</th>\n",
       "      <td>-0.028031</td>\n",
       "      <td>CSI_4</td>\n",
       "      <td>0.972358</td>\n",
       "    </tr>\n",
       "    <tr>\n",
       "      <th>4</th>\n",
       "      <td>-0.192406</td>\n",
       "      <td>CSI_5</td>\n",
       "      <td>0.824972</td>\n",
       "    </tr>\n",
       "    <tr>\n",
       "      <th>5</th>\n",
       "      <td>0.231329</td>\n",
       "      <td>CSI_6</td>\n",
       "      <td>1.260274</td>\n",
       "    </tr>\n",
       "    <tr>\n",
       "      <th>6</th>\n",
       "      <td>0.043130</td>\n",
       "      <td>CSI_7</td>\n",
       "      <td>1.044074</td>\n",
       "    </tr>\n",
       "    <tr>\n",
       "      <th>7</th>\n",
       "      <td>-0.387595</td>\n",
       "      <td>CSI_8</td>\n",
       "      <td>0.678687</td>\n",
       "    </tr>\n",
       "    <tr>\n",
       "      <th>8</th>\n",
       "      <td>0.212558</td>\n",
       "      <td>CSI_9</td>\n",
       "      <td>1.236838</td>\n",
       "    </tr>\n",
       "    <tr>\n",
       "      <th>9</th>\n",
       "      <td>0.627643</td>\n",
       "      <td>CSI_10</td>\n",
       "      <td>1.873190</td>\n",
       "    </tr>\n",
       "    <tr>\n",
       "      <th>10</th>\n",
       "      <td>1.488224</td>\n",
       "      <td>intercept</td>\n",
       "      <td>4.429224</td>\n",
       "    </tr>\n",
       "  </tbody>\n",
       "</table>\n",
       "</div>"
      ],
      "text/plain": [
       "       Coefs      Names  Odds coef\n",
       "0   0.659561      CSI_1   1.933942\n",
       "1   0.315082      CSI_2   1.370371\n",
       "2   0.383174      CSI_3   1.466934\n",
       "3  -0.028031      CSI_4   0.972358\n",
       "4  -0.192406      CSI_5   0.824972\n",
       "5   0.231329      CSI_6   1.260274\n",
       "6   0.043130      CSI_7   1.044074\n",
       "7  -0.387595      CSI_8   0.678687\n",
       "8   0.212558      CSI_9   1.236838\n",
       "9   0.627643     CSI_10   1.873190\n",
       "10  1.488224  intercept   4.429224"
      ]
     },
     "execution_count": 48,
     "metadata": {},
     "output_type": "execute_result"
    }
   ],
   "source": [
    "coef['Odds coef'] = np.exp(coef['Coefs'])\n",
    "coef"
   ]
  },
  {
   "cell_type": "markdown",
   "id": "d1b82301",
   "metadata": {},
   "source": [
    "#### Удовлетворенность обслуживанием в отделении и сайтом банка сильнее всего влияют на попадание клиентов в группу Promoters (увеличивают шансы попадания практически в 2 раза). Как ни странно, высокая удовлетворенность работой чата в мобильном приложении снижает вероятность попадания в группу Promoters."
   ]
  },
  {
   "cell_type": "markdown",
   "id": "8acf6f72",
   "metadata": {},
   "source": [
    "### Метрики качества"
   ]
  },
  {
   "cell_type": "code",
   "execution_count": 49,
   "id": "fa5ccdac",
   "metadata": {},
   "outputs": [],
   "source": [
    "from sklearn.metrics import accuracy_score, f1_score,\\\n",
    "recall_score, confusion_matrix, plot_confusion_matrix, plot_roc_curve"
   ]
  },
  {
   "cell_type": "code",
   "execution_count": 50,
   "id": "a155d72f",
   "metadata": {},
   "outputs": [
    {
     "name": "stdout",
     "output_type": "stream",
     "text": [
      "Accuracy : 0.8672566371681416\n",
      "F1_score:  0.9186256781193489\n",
      "Recall:  0.9769230769230769\n",
      "Precision:  0.8668941979522184\n"
     ]
    }
   ],
   "source": [
    "print('Accuracy :', accuracy_score(y_train, Log_reg_model.predict(X_train_scaled)))\n",
    "print('F1_score: ', f1_score(y_train, Log_reg_model.predict(X_train_scaled)))\n",
    "print('Recall: ', recall_score(y_train, Log_reg_model.predict(X_train_scaled)))\n",
    "print('Precision: ', precision_score(y_train, Log_reg_model.predict(X_train_scaled)))"
   ]
  },
  {
   "cell_type": "markdown",
   "id": "178520d1",
   "metadata": {},
   "source": [
    "### Доля правильных ответов составляет 87%"
   ]
  },
  {
   "cell_type": "code",
   "execution_count": 52,
   "id": "ce63052d",
   "metadata": {},
   "outputs": [
    {
     "name": "stderr",
     "output_type": "stream",
     "text": [
      "C:\\Users\\hp\\anaconda3\\lib\\site-packages\\sklearn\\utils\\deprecation.py:87: FutureWarning: Function plot_confusion_matrix is deprecated; Function `plot_confusion_matrix` is deprecated in 1.0 and will be removed in 1.2. Use one of the class methods: ConfusionMatrixDisplay.from_predictions or ConfusionMatrixDisplay.from_estimator.\n",
      "  warnings.warn(msg, category=FutureWarning)\n"
     ]
    },
    {
     "data": {
      "text/plain": [
       "<sklearn.metrics._plot.confusion_matrix.ConfusionMatrixDisplay at 0x2e284431700>"
      ]
     },
     "execution_count": 52,
     "metadata": {},
     "output_type": "execute_result"
    },
    {
     "data": {
      "image/png": "[encoded data removed]",
      "text/plain": [
       "<Figure size 432x288 with 2 Axes>"
      ]
     },
     "metadata": {
      "needs_background": "light"
     },
     "output_type": "display_data"
    }
   ],
   "source": [
    "plot_confusion_matrix(Log_reg_model, X_valid_scaled, y_valid)"
   ]
  },
  {
   "cell_type": "markdown",
   "id": "bf9d574e",
   "metadata": {},
   "source": [
    "### ROC curve"
   ]
  },
  {
   "cell_type": "code",
   "execution_count": 53,
   "id": "c1a6c4f2",
   "metadata": {},
   "outputs": [
    {
     "name": "stderr",
     "output_type": "stream",
     "text": [
      "C:\\Users\\hp\\anaconda3\\lib\\site-packages\\sklearn\\utils\\deprecation.py:87: FutureWarning: Function plot_roc_curve is deprecated; Function :func:`plot_roc_curve` is deprecated in 1.0 and will be removed in 1.2. Use one of the class methods: :meth:`sklearn.metric.RocCurveDisplay.from_predictions` or :meth:`sklearn.metric.RocCurveDisplay.from_estimator`.\n",
      "  warnings.warn(msg, category=FutureWarning)\n",
      "C:\\Users\\hp\\anaconda3\\lib\\site-packages\\sklearn\\base.py:443: UserWarning: X has feature names, but LogisticRegression was fitted without feature names\n",
      "  warnings.warn(\n"
     ]
    },
    {
     "data": {
      "text/plain": [
       "<sklearn.metrics._plot.roc_curve.RocCurveDisplay at 0x2e286a4b460>"
      ]
     },
     "execution_count": 53,
     "metadata": {},
     "output_type": "execute_result"
    },
    {
     "data": {
      "image/png": "[encoded data removed]",
      "text/plain": [
       "<Figure size 432x288 with 1 Axes>"
      ]
     },
     "metadata": {
      "needs_background": "light"
     },
     "output_type": "display_data"
    }
   ],
   "source": [
    "plot_roc_curve(Log_reg_model, X_valid, y_valid)"
   ]
  },
  {
   "cell_type": "code",
   "execution_count": 54,
   "id": "a1b69cd6",
   "metadata": {},
   "outputs": [
    {
     "name": "stderr",
     "output_type": "stream",
     "text": [
      "C:\\Users\\hp\\anaconda3\\lib\\site-packages\\sklearn\\utils\\deprecation.py:87: FutureWarning: Function plot_roc_curve is deprecated; Function :func:`plot_roc_curve` is deprecated in 1.0 and will be removed in 1.2. Use one of the class methods: :meth:`sklearn.metric.RocCurveDisplay.from_predictions` or :meth:`sklearn.metric.RocCurveDisplay.from_estimator`.\n",
      "  warnings.warn(msg, category=FutureWarning)\n",
      "C:\\Users\\hp\\anaconda3\\lib\\site-packages\\sklearn\\base.py:443: UserWarning: X has feature names, but LogisticRegression was fitted without feature names\n",
      "  warnings.warn(\n"
     ]
    },
    {
     "data": {
      "text/plain": [
       "<sklearn.metrics._plot.roc_curve.RocCurveDisplay at 0x2e286b81d30>"
      ]
     },
     "execution_count": 54,
     "metadata": {},
     "output_type": "execute_result"
    },
    {
     "data": {
      "image/png": "[encoded data removed]",
      "text/plain": [
       "<Figure size 432x288 with 1 Axes>"
      ]
     },
     "metadata": {
      "needs_background": "light"
     },
     "output_type": "display_data"
    }
   ],
   "source": [
    "plot_roc_curve(Log_reg_model, X_train, y_train)"
   ]
  },
  {
   "cell_type": "markdown",
   "id": "d2b4feb3",
   "metadata": {},
   "source": [
    "### Респонденты в анкете также оценивали важность 30 параметров продуктов и услуг при выборе банка. Попробуем с помощью факторного анализа выявить наиболее значимые параметры."
   ]
  },
  {
   "cell_type": "code",
   "execution_count": 55,
   "id": "b76d4eb4",
   "metadata": {},
   "outputs": [],
   "source": [
    "from factor_analyzer import FactorAnalyzer"
   ]
  },
  {
   "cell_type": "code",
   "execution_count": 68,
   "id": "df2e80c4",
   "metadata": {},
   "outputs": [],
   "source": [
    "factors = banks_cut.drop(['Банк', 'Сегмент', 'Поведение', 'Пол', 'Возраст', 'Тип занятости', 'NPS', 'CSI_1', 'CSI_2', 'CSI_3', 'CSI_4', 'CSI_5', 'CSI_6', 'CSI_7', 'CSI_8', 'CSI_9', 'CSI_10'], axis = 1)"
   ]
  },
  {
   "cell_type": "code",
   "execution_count": 69,
   "id": "aa863fd5",
   "metadata": {},
   "outputs": [
    {
     "name": "stdout",
     "output_type": "stream",
     "text": [
      "<class 'pandas.core.frame.DataFrame'>\n",
      "Int64Index: 499 entries, 26 to 5091\n",
      "Data columns (total 30 columns):\n",
      " #   Column    Non-Null Count  Dtype  \n",
      "---  ------    --------------  -----  \n",
      " 0   IMP_P1    499 non-null    float64\n",
      " 1   IMP_P2    499 non-null    float64\n",
      " 2   IMP_P3    499 non-null    float64\n",
      " 3   IMP_P4    499 non-null    float64\n",
      " 4   IMP_P5    499 non-null    float64\n",
      " 5   IMP_P6    499 non-null    float64\n",
      " 6   IMP_P7    499 non-null    float64\n",
      " 7   IMP_P8    499 non-null    float64\n",
      " 8   IMP_P9    499 non-null    float64\n",
      " 9   IMP_S1    499 non-null    float64\n",
      " 10  IMP_S2    499 non-null    float64\n",
      " 11  IMP_S3    499 non-null    float64\n",
      " 12  IMP_S4    499 non-null    float64\n",
      " 13  IMP_S5    499 non-null    float64\n",
      " 14  IMP_S6    499 non-null    float64\n",
      " 15  IMP_S7    499 non-null    float64\n",
      " 16  IMP_S8    499 non-null    float64\n",
      " 17  IMP_S9    499 non-null    float64\n",
      " 18  IMP_S10   499 non-null    float64\n",
      " 19  IMP_S11   499 non-null    float64\n",
      " 20  IMP_R     499 non-null    float64\n",
      " 21  IMP_MOB1  499 non-null    float64\n",
      " 22  IMP_MOB2  499 non-null    float64\n",
      " 23  IMP_MOB3  499 non-null    float64\n",
      " 24  IMP_MOB4  499 non-null    float64\n",
      " 25  IMP_MOB5  499 non-null    float64\n",
      " 26  IMP_MOB6  499 non-null    float64\n",
      " 27  IMP_MOB7  499 non-null    float64\n",
      " 28  IMP_MOB8  499 non-null    float64\n",
      " 29  IMP_MOB9  499 non-null    float64\n",
      "dtypes: float64(30)\n",
      "memory usage: 120.9 KB\n"
     ]
    }
   ],
   "source": [
    "factors.info()"
   ]
  },
  {
   "cell_type": "markdown",
   "id": "2d80edf6",
   "metadata": {},
   "source": [
    "#### Проведём тест на адекватность применения факторного анализа"
   ]
  },
  {
   "cell_type": "markdown",
   "id": "5ce357e3",
   "metadata": {},
   "source": [
    "#### Тест Бартлетта"
   ]
  },
  {
   "cell_type": "code",
   "execution_count": 71,
   "id": "816fc4af",
   "metadata": {},
   "outputs": [
    {
     "data": {
      "text/plain": [
       "(3811.4986993638618, 0.0)"
      ]
     },
     "execution_count": 71,
     "metadata": {},
     "output_type": "execute_result"
    }
   ],
   "source": [
    "from factor_analyzer.factor_analyzer import calculate_bartlett_sphericity\n",
    "chi_square_value, p_value = calculate_bartlett_sphericity(factors)\n",
    "chi_square_value, p_value"
   ]
  },
  {
   "cell_type": "markdown",
   "id": "fabc5af5",
   "metadata": {},
   "source": [
    "#### Тест Кайзера-Мейера-Олкина"
   ]
  },
  {
   "cell_type": "code",
   "execution_count": 72,
   "id": "d31fc9f6",
   "metadata": {},
   "outputs": [
    {
     "data": {
      "text/plain": [
       "0.8399241711279357"
      ]
     },
     "execution_count": 72,
     "metadata": {},
     "output_type": "execute_result"
    }
   ],
   "source": [
    "from factor_analyzer.factor_analyzer import calculate_kmo\n",
    "kmo_all, kmo_model = calculate_kmo(factors)\n",
    "kmo_model"
   ]
  },
  {
   "cell_type": "markdown",
   "id": "9b7337b9",
   "metadata": {},
   "source": [
    "#### Выбор количества факторов"
   ]
  },
  {
   "cell_type": "markdown",
   "id": "c37faa20",
   "metadata": {},
   "source": [
    "#### Критерий Кайзера"
   ]
  },
  {
   "cell_type": "code",
   "execution_count": 73,
   "id": "5c02b7ed",
   "metadata": {},
   "outputs": [
    {
     "data": {
      "text/plain": [
       "array([6.37796831, 2.06680067, 1.7716381 , 1.59273478, 1.45170928,\n",
       "       1.1918722 , 1.12616269, 1.0781989 , 0.96160792, 0.91487796,\n",
       "       0.90084911, 0.8502109 , 0.8099227 , 0.7537506 , 0.73844286,\n",
       "       0.70590119, 0.66916616, 0.63066812, 0.59309997, 0.54708879,\n",
       "       0.53608814, 0.49263152, 0.47949701, 0.4694507 , 0.4459225 ,\n",
       "       0.41244563, 0.40742741, 0.39084621, 0.32196685, 0.31105281])"
      ]
     },
     "execution_count": 73,
     "metadata": {},
     "output_type": "execute_result"
    }
   ],
   "source": [
    "fa = FactorAnalyzer()\n",
    "fa.fit(factors)\n",
    "\n",
    "ev, v = fa.get_eigenvalues()\n",
    "ev"
   ]
  },
  {
   "cell_type": "markdown",
   "id": "4512b385",
   "metadata": {},
   "source": [
    "#### Для 8 факторов собственные значения больше 1. Выбираем 8 факторов"
   ]
  },
  {
   "cell_type": "code",
   "execution_count": 74,
   "id": "517650af",
   "metadata": {},
   "outputs": [
    {
     "data": {
      "text/plain": [
       "Text(0, 0.5, 'Собственные значения')"
      ]
     },
     "execution_count": 74,
     "metadata": {},
     "output_type": "execute_result"
    },
    {
     "data": {
      "image/png": "[encoded data removed]",
      "text/plain": [
       "<Figure size 432x288 with 1 Axes>"
      ]
     },
     "metadata": {
      "needs_background": "light"
     },
     "output_type": "display_data"
    }
   ],
   "source": [
    "#### Проиллюстрируем это на графике каменистой осыпи\n",
    "plt.scatter(range(1, factors.shape[1] + 1), ev)\n",
    "plt.plot(range(1, factors.shape[1] + 1), ev)\n",
    "\n",
    "plt.title('График собственных значений')\n",
    "plt.xlabel('Признаки')\n",
    "plt.ylabel('Собственные значения')"
   ]
  },
  {
   "cell_type": "markdown",
   "id": "940b5ad8",
   "metadata": {},
   "source": [
    "#### Реализация факторного анализа"
   ]
  },
  {
   "cell_type": "code",
   "execution_count": 78,
   "id": "f37b8989",
   "metadata": {},
   "outputs": [
    {
     "data": {
      "text/plain": [
       "FactorAnalyzer(n_factors=8, rotation='varimax', rotation_kwargs={})"
      ]
     },
     "execution_count": 78,
     "metadata": {},
     "output_type": "execute_result"
    }
   ],
   "source": [
    "fa_b = FactorAnalyzer(8, rotation = 'varimax')\n",
    "fa_b.fit(factors)"
   ]
  },
  {
   "cell_type": "code",
   "execution_count": 79,
   "id": "e86308ad",
   "metadata": {},
   "outputs": [
    {
     "data": {
      "text/plain": [
       "array([[ 4.83361083e-02,  3.28569781e-02,  2.14918569e-01,\n",
       "         5.44670988e-01,  3.63500210e-02,  1.21130761e-01,\n",
       "         1.09581270e-01, -7.49925134e-02],\n",
       "       [ 1.37674253e-01,  9.84734586e-02,  6.71777203e-02,\n",
       "         6.82605929e-01,  5.76633192e-03,  8.96755854e-02,\n",
       "         1.05731470e-01, -2.71166382e-03],\n",
       "       [ 3.52370558e-02,  8.41127728e-02,  2.76580416e-01,\n",
       "         3.19937953e-01,  2.08301343e-01,  1.16027125e-01,\n",
       "        -1.16635222e-01,  7.64575829e-02],\n",
       "       [-3.67441214e-02,  1.91366287e-01,  9.60875559e-02,\n",
       "         9.54756836e-02, -3.15770876e-03,  1.05115027e-01,\n",
       "         6.13214567e-01, -1.19411502e-01],\n",
       "       [ 5.89240232e-02,  6.73071432e-01,  6.52976617e-02,\n",
       "         9.10531466e-02,  1.12636331e-01,  6.86553944e-02,\n",
       "         1.10216073e-01, -6.54450595e-03],\n",
       "       [ 1.92460833e-01,  9.08678230e-03,  5.39908575e-02,\n",
       "         1.97919659e-01,  1.03135228e-01,  2.31700579e-02,\n",
       "         5.25482429e-01,  1.41151615e-01],\n",
       "       [ 3.94785686e-02,  1.38211046e-01,  1.43022439e-01,\n",
       "         1.03258256e-01,  5.61070358e-04,  6.61323833e-01,\n",
       "         2.72418115e-02, -5.81754655e-02],\n",
       "       [ 1.66086915e-01,  8.63464671e-02,  1.15356376e-01,\n",
       "         4.88610968e-01,  2.01981981e-01, -1.14542389e-02,\n",
       "         1.55289086e-01,  1.62167406e-01],\n",
       "       [ 1.88332959e-01,  1.12175044e-01,  4.63512771e-02,\n",
       "         1.01628618e-01,  4.82957252e-02,  7.59357025e-01,\n",
       "         9.11155295e-02,  8.77998373e-02],\n",
       "       [ 7.19816488e-02,  3.28645515e-02,  6.06332432e-01,\n",
       "         8.42756742e-02,  4.08961885e-02,  8.99746352e-02,\n",
       "         1.62053096e-02,  9.16648230e-02],\n",
       "       [ 4.46470108e-02,  3.32213786e-01,  3.17747634e-01,\n",
       "         2.73803095e-02,  1.94123356e-01,  1.16967809e-01,\n",
       "         1.01277017e-01,  1.87242442e-01],\n",
       "       [ 1.28092711e-01,  7.35548059e-01,  2.55971136e-01,\n",
       "        -1.04323300e-02,  3.97516338e-02,  5.15984079e-02,\n",
       "        -1.01524500e-01,  4.27863696e-02],\n",
       "       [ 2.29045173e-01,  3.57442502e-01,  2.21504898e-01,\n",
       "         4.61559842e-02,  5.72242040e-02,  2.15258223e-01,\n",
       "         1.45048649e-01,  3.21638374e-02],\n",
       "       [ 1.39746971e-01,  1.14962228e-01,  2.65839672e-01,\n",
       "         2.29548542e-01,  2.22870530e-01,  1.23681829e-01,\n",
       "         1.74304757e-01,  1.32033062e-01],\n",
       "       [ 1.41319512e-01,  3.49950593e-03,  4.19189095e-01,\n",
       "         2.46363202e-01,  1.12438884e-01,  5.71812163e-02,\n",
       "         6.15146798e-02,  6.29316622e-03],\n",
       "       [ 2.85960991e-01,  1.66216244e-01,  4.13465363e-01,\n",
       "         1.16119845e-01,  1.35976215e-01,  3.94107035e-02,\n",
       "         7.78025752e-02, -9.18733867e-02],\n",
       "       [ 6.19661134e-02,  1.46554577e-01,  1.37383299e-01,\n",
       "         2.50049446e-01,  3.79808180e-01,  3.62108219e-03,\n",
       "         1.90609641e-01,  9.94488790e-02],\n",
       "       [ 2.18832282e-01,  2.30119677e-01,  3.36060326e-01,\n",
       "         1.15061793e-01,  1.25831779e-01,  8.62475216e-02,\n",
       "         1.75205666e-01, -2.38440642e-01],\n",
       "       [ 6.74303604e-02,  6.88334684e-01, -8.41457386e-02,\n",
       "         1.47173701e-01,  5.24155480e-02,  1.12620569e-01,\n",
       "         1.37924718e-01,  8.37979206e-03],\n",
       "       [ 3.10657257e-01,  1.86166980e-01,  2.55009293e-01,\n",
       "         1.00055383e-01, -7.39008031e-02,  2.45600613e-01,\n",
       "         8.00234002e-02,  7.06920352e-02],\n",
       "       [ 1.22588263e-01,  1.58242164e-01,  3.31359307e-01,\n",
       "         1.35924131e-01,  2.42832008e-01,  1.11878459e-02,\n",
       "         7.20456762e-02, -7.15797984e-02],\n",
       "       [ 2.50318836e-01,  5.55491392e-02,  2.48842019e-01,\n",
       "         6.23124664e-02,  4.74402126e-01,  1.21656407e-02,\n",
       "        -5.43002899e-02,  6.32688884e-02],\n",
       "       [ 1.12279288e-01,  5.87770942e-02,  5.35696315e-02,\n",
       "         5.38146299e-02,  6.97601318e-01,  7.11021444e-03,\n",
       "         3.85429243e-02, -3.43295827e-02],\n",
       "       [ 5.02628920e-01,  1.57612915e-01,  1.14238597e-01,\n",
       "        -1.05054448e-02,  2.36128698e-01,  7.71809381e-02,\n",
       "        -5.65267331e-02, -1.63682254e-01],\n",
       "       [ 7.14610000e-01,  2.91139218e-02,  5.19281912e-02,\n",
       "         1.71754542e-01,  7.16099283e-02,  1.15961696e-01,\n",
       "         1.10403292e-02, -7.59517613e-02],\n",
       "       [ 6.98720401e-01,  2.20318016e-02,  1.61892355e-01,\n",
       "         1.88495505e-02,  4.35251402e-02,  7.18151555e-02,\n",
       "         5.94739801e-02,  7.55465132e-02],\n",
       "       [ 3.95304499e-01,  1.07442785e-01,  1.69122129e-01,\n",
       "         6.47204896e-02,  2.27088553e-01,  1.55590524e-02,\n",
       "         9.61844377e-02, -5.13790430e-02],\n",
       "       [ 5.53225028e-01,  7.17335759e-02, -4.69998315e-02,\n",
       "         2.42789900e-01,  2.18841721e-01, -5.22309716e-02,\n",
       "         1.16300755e-01,  1.98209156e-01],\n",
       "       [ 4.81630672e-01,  4.87140868e-02,  1.68953752e-01,\n",
       "         5.30318998e-02, -3.49529738e-02,  1.11021258e-01,\n",
       "         5.48901652e-02,  2.67556514e-01],\n",
       "       [ 4.39356618e-01,  1.89741189e-01,  9.57582643e-02,\n",
       "         1.48563831e-01,  1.23812428e-01,  5.21988463e-02,\n",
       "        -1.26584316e-02,  4.33172563e-01]])"
      ]
     },
     "execution_count": 79,
     "metadata": {},
     "output_type": "execute_result"
    }
   ],
   "source": [
    "fa_b.loadings_"
   ]
  },
  {
   "cell_type": "code",
   "execution_count": 80,
   "id": "30a9c7ed",
   "metadata": {},
   "outputs": [
    {
     "data": {
      "text/html": [
       "<div>\n",
       "<style scoped>\n",
       "    .dataframe tbody tr th:only-of-type {\n",
       "        vertical-align: middle;\n",
       "    }\n",
       "\n",
       "    .dataframe tbody tr th {\n",
       "        vertical-align: top;\n",
       "    }\n",
       "\n",
       "    .dataframe thead th {\n",
       "        text-align: right;\n",
       "    }\n",
       "</style>\n",
       "<table border=\"1\" class=\"dataframe\">\n",
       "  <thead>\n",
       "    <tr style=\"text-align: right;\">\n",
       "      <th></th>\n",
       "      <th>0</th>\n",
       "      <th>1</th>\n",
       "      <th>2</th>\n",
       "      <th>3</th>\n",
       "      <th>4</th>\n",
       "      <th>5</th>\n",
       "      <th>6</th>\n",
       "      <th>7</th>\n",
       "    </tr>\n",
       "  </thead>\n",
       "  <tbody>\n",
       "    <tr>\n",
       "      <th>IMP_P1</th>\n",
       "      <td>0.048336</td>\n",
       "      <td>0.032857</td>\n",
       "      <td>0.214919</td>\n",
       "      <td>0.544671</td>\n",
       "      <td>0.036350</td>\n",
       "      <td>0.121131</td>\n",
       "      <td>0.109581</td>\n",
       "      <td>-0.074993</td>\n",
       "    </tr>\n",
       "    <tr>\n",
       "      <th>IMP_P2</th>\n",
       "      <td>0.137674</td>\n",
       "      <td>0.098473</td>\n",
       "      <td>0.067178</td>\n",
       "      <td>0.682606</td>\n",
       "      <td>0.005766</td>\n",
       "      <td>0.089676</td>\n",
       "      <td>0.105731</td>\n",
       "      <td>-0.002712</td>\n",
       "    </tr>\n",
       "    <tr>\n",
       "      <th>IMP_P3</th>\n",
       "      <td>0.035237</td>\n",
       "      <td>0.084113</td>\n",
       "      <td>0.276580</td>\n",
       "      <td>0.319938</td>\n",
       "      <td>0.208301</td>\n",
       "      <td>0.116027</td>\n",
       "      <td>-0.116635</td>\n",
       "      <td>0.076458</td>\n",
       "    </tr>\n",
       "    <tr>\n",
       "      <th>IMP_P4</th>\n",
       "      <td>-0.036744</td>\n",
       "      <td>0.191366</td>\n",
       "      <td>0.096088</td>\n",
       "      <td>0.095476</td>\n",
       "      <td>-0.003158</td>\n",
       "      <td>0.105115</td>\n",
       "      <td>0.613215</td>\n",
       "      <td>-0.119412</td>\n",
       "    </tr>\n",
       "    <tr>\n",
       "      <th>IMP_P5</th>\n",
       "      <td>0.058924</td>\n",
       "      <td>0.673071</td>\n",
       "      <td>0.065298</td>\n",
       "      <td>0.091053</td>\n",
       "      <td>0.112636</td>\n",
       "      <td>0.068655</td>\n",
       "      <td>0.110216</td>\n",
       "      <td>-0.006545</td>\n",
       "    </tr>\n",
       "    <tr>\n",
       "      <th>IMP_P6</th>\n",
       "      <td>0.192461</td>\n",
       "      <td>0.009087</td>\n",
       "      <td>0.053991</td>\n",
       "      <td>0.197920</td>\n",
       "      <td>0.103135</td>\n",
       "      <td>0.023170</td>\n",
       "      <td>0.525482</td>\n",
       "      <td>0.141152</td>\n",
       "    </tr>\n",
       "    <tr>\n",
       "      <th>IMP_P7</th>\n",
       "      <td>0.039479</td>\n",
       "      <td>0.138211</td>\n",
       "      <td>0.143022</td>\n",
       "      <td>0.103258</td>\n",
       "      <td>0.000561</td>\n",
       "      <td>0.661324</td>\n",
       "      <td>0.027242</td>\n",
       "      <td>-0.058175</td>\n",
       "    </tr>\n",
       "    <tr>\n",
       "      <th>IMP_P8</th>\n",
       "      <td>0.166087</td>\n",
       "      <td>0.086346</td>\n",
       "      <td>0.115356</td>\n",
       "      <td>0.488611</td>\n",
       "      <td>0.201982</td>\n",
       "      <td>-0.011454</td>\n",
       "      <td>0.155289</td>\n",
       "      <td>0.162167</td>\n",
       "    </tr>\n",
       "    <tr>\n",
       "      <th>IMP_P9</th>\n",
       "      <td>0.188333</td>\n",
       "      <td>0.112175</td>\n",
       "      <td>0.046351</td>\n",
       "      <td>0.101629</td>\n",
       "      <td>0.048296</td>\n",
       "      <td>0.759357</td>\n",
       "      <td>0.091116</td>\n",
       "      <td>0.087800</td>\n",
       "    </tr>\n",
       "    <tr>\n",
       "      <th>IMP_S1</th>\n",
       "      <td>0.071982</td>\n",
       "      <td>0.032865</td>\n",
       "      <td>0.606332</td>\n",
       "      <td>0.084276</td>\n",
       "      <td>0.040896</td>\n",
       "      <td>0.089975</td>\n",
       "      <td>0.016205</td>\n",
       "      <td>0.091665</td>\n",
       "    </tr>\n",
       "    <tr>\n",
       "      <th>IMP_S2</th>\n",
       "      <td>0.044647</td>\n",
       "      <td>0.332214</td>\n",
       "      <td>0.317748</td>\n",
       "      <td>0.027380</td>\n",
       "      <td>0.194123</td>\n",
       "      <td>0.116968</td>\n",
       "      <td>0.101277</td>\n",
       "      <td>0.187242</td>\n",
       "    </tr>\n",
       "    <tr>\n",
       "      <th>IMP_S3</th>\n",
       "      <td>0.128093</td>\n",
       "      <td>0.735548</td>\n",
       "      <td>0.255971</td>\n",
       "      <td>-0.010432</td>\n",
       "      <td>0.039752</td>\n",
       "      <td>0.051598</td>\n",
       "      <td>-0.101525</td>\n",
       "      <td>0.042786</td>\n",
       "    </tr>\n",
       "    <tr>\n",
       "      <th>IMP_S4</th>\n",
       "      <td>0.229045</td>\n",
       "      <td>0.357443</td>\n",
       "      <td>0.221505</td>\n",
       "      <td>0.046156</td>\n",
       "      <td>0.057224</td>\n",
       "      <td>0.215258</td>\n",
       "      <td>0.145049</td>\n",
       "      <td>0.032164</td>\n",
       "    </tr>\n",
       "    <tr>\n",
       "      <th>IMP_S5</th>\n",
       "      <td>0.139747</td>\n",
       "      <td>0.114962</td>\n",
       "      <td>0.265840</td>\n",
       "      <td>0.229549</td>\n",
       "      <td>0.222871</td>\n",
       "      <td>0.123682</td>\n",
       "      <td>0.174305</td>\n",
       "      <td>0.132033</td>\n",
       "    </tr>\n",
       "    <tr>\n",
       "      <th>IMP_S6</th>\n",
       "      <td>0.141320</td>\n",
       "      <td>0.003500</td>\n",
       "      <td>0.419189</td>\n",
       "      <td>0.246363</td>\n",
       "      <td>0.112439</td>\n",
       "      <td>0.057181</td>\n",
       "      <td>0.061515</td>\n",
       "      <td>0.006293</td>\n",
       "    </tr>\n",
       "    <tr>\n",
       "      <th>IMP_S7</th>\n",
       "      <td>0.285961</td>\n",
       "      <td>0.166216</td>\n",
       "      <td>0.413465</td>\n",
       "      <td>0.116120</td>\n",
       "      <td>0.135976</td>\n",
       "      <td>0.039411</td>\n",
       "      <td>0.077803</td>\n",
       "      <td>-0.091873</td>\n",
       "    </tr>\n",
       "    <tr>\n",
       "      <th>IMP_S8</th>\n",
       "      <td>0.061966</td>\n",
       "      <td>0.146555</td>\n",
       "      <td>0.137383</td>\n",
       "      <td>0.250049</td>\n",
       "      <td>0.379808</td>\n",
       "      <td>0.003621</td>\n",
       "      <td>0.190610</td>\n",
       "      <td>0.099449</td>\n",
       "    </tr>\n",
       "    <tr>\n",
       "      <th>IMP_S9</th>\n",
       "      <td>0.218832</td>\n",
       "      <td>0.230120</td>\n",
       "      <td>0.336060</td>\n",
       "      <td>0.115062</td>\n",
       "      <td>0.125832</td>\n",
       "      <td>0.086248</td>\n",
       "      <td>0.175206</td>\n",
       "      <td>-0.238441</td>\n",
       "    </tr>\n",
       "    <tr>\n",
       "      <th>IMP_S10</th>\n",
       "      <td>0.067430</td>\n",
       "      <td>0.688335</td>\n",
       "      <td>-0.084146</td>\n",
       "      <td>0.147174</td>\n",
       "      <td>0.052416</td>\n",
       "      <td>0.112621</td>\n",
       "      <td>0.137925</td>\n",
       "      <td>0.008380</td>\n",
       "    </tr>\n",
       "    <tr>\n",
       "      <th>IMP_S11</th>\n",
       "      <td>0.310657</td>\n",
       "      <td>0.186167</td>\n",
       "      <td>0.255009</td>\n",
       "      <td>0.100055</td>\n",
       "      <td>-0.073901</td>\n",
       "      <td>0.245601</td>\n",
       "      <td>0.080023</td>\n",
       "      <td>0.070692</td>\n",
       "    </tr>\n",
       "    <tr>\n",
       "      <th>IMP_R</th>\n",
       "      <td>0.122588</td>\n",
       "      <td>0.158242</td>\n",
       "      <td>0.331359</td>\n",
       "      <td>0.135924</td>\n",
       "      <td>0.242832</td>\n",
       "      <td>0.011188</td>\n",
       "      <td>0.072046</td>\n",
       "      <td>-0.071580</td>\n",
       "    </tr>\n",
       "    <tr>\n",
       "      <th>IMP_MOB1</th>\n",
       "      <td>0.250319</td>\n",
       "      <td>0.055549</td>\n",
       "      <td>0.248842</td>\n",
       "      <td>0.062312</td>\n",
       "      <td>0.474402</td>\n",
       "      <td>0.012166</td>\n",
       "      <td>-0.054300</td>\n",
       "      <td>0.063269</td>\n",
       "    </tr>\n",
       "    <tr>\n",
       "      <th>IMP_MOB2</th>\n",
       "      <td>0.112279</td>\n",
       "      <td>0.058777</td>\n",
       "      <td>0.053570</td>\n",
       "      <td>0.053815</td>\n",
       "      <td>0.697601</td>\n",
       "      <td>0.007110</td>\n",
       "      <td>0.038543</td>\n",
       "      <td>-0.034330</td>\n",
       "    </tr>\n",
       "    <tr>\n",
       "      <th>IMP_MOB3</th>\n",
       "      <td>0.502629</td>\n",
       "      <td>0.157613</td>\n",
       "      <td>0.114239</td>\n",
       "      <td>-0.010505</td>\n",
       "      <td>0.236129</td>\n",
       "      <td>0.077181</td>\n",
       "      <td>-0.056527</td>\n",
       "      <td>-0.163682</td>\n",
       "    </tr>\n",
       "    <tr>\n",
       "      <th>IMP_MOB4</th>\n",
       "      <td>0.714610</td>\n",
       "      <td>0.029114</td>\n",
       "      <td>0.051928</td>\n",
       "      <td>0.171755</td>\n",
       "      <td>0.071610</td>\n",
       "      <td>0.115962</td>\n",
       "      <td>0.011040</td>\n",
       "      <td>-0.075952</td>\n",
       "    </tr>\n",
       "    <tr>\n",
       "      <th>IMP_MOB5</th>\n",
       "      <td>0.698720</td>\n",
       "      <td>0.022032</td>\n",
       "      <td>0.161892</td>\n",
       "      <td>0.018850</td>\n",
       "      <td>0.043525</td>\n",
       "      <td>0.071815</td>\n",
       "      <td>0.059474</td>\n",
       "      <td>0.075547</td>\n",
       "    </tr>\n",
       "    <tr>\n",
       "      <th>IMP_MOB6</th>\n",
       "      <td>0.395304</td>\n",
       "      <td>0.107443</td>\n",
       "      <td>0.169122</td>\n",
       "      <td>0.064720</td>\n",
       "      <td>0.227089</td>\n",
       "      <td>0.015559</td>\n",
       "      <td>0.096184</td>\n",
       "      <td>-0.051379</td>\n",
       "    </tr>\n",
       "    <tr>\n",
       "      <th>IMP_MOB7</th>\n",
       "      <td>0.553225</td>\n",
       "      <td>0.071734</td>\n",
       "      <td>-0.047000</td>\n",
       "      <td>0.242790</td>\n",
       "      <td>0.218842</td>\n",
       "      <td>-0.052231</td>\n",
       "      <td>0.116301</td>\n",
       "      <td>0.198209</td>\n",
       "    </tr>\n",
       "    <tr>\n",
       "      <th>IMP_MOB8</th>\n",
       "      <td>0.481631</td>\n",
       "      <td>0.048714</td>\n",
       "      <td>0.168954</td>\n",
       "      <td>0.053032</td>\n",
       "      <td>-0.034953</td>\n",
       "      <td>0.111021</td>\n",
       "      <td>0.054890</td>\n",
       "      <td>0.267557</td>\n",
       "    </tr>\n",
       "    <tr>\n",
       "      <th>IMP_MOB9</th>\n",
       "      <td>0.439357</td>\n",
       "      <td>0.189741</td>\n",
       "      <td>0.095758</td>\n",
       "      <td>0.148564</td>\n",
       "      <td>0.123812</td>\n",
       "      <td>0.052199</td>\n",
       "      <td>-0.012658</td>\n",
       "      <td>0.433173</td>\n",
       "    </tr>\n",
       "  </tbody>\n",
       "</table>\n",
       "</div>"
      ],
      "text/plain": [
       "                 0         1         2         3         4         5  \\\n",
       "IMP_P1    0.048336  0.032857  0.214919  0.544671  0.036350  0.121131   \n",
       "IMP_P2    0.137674  0.098473  0.067178  0.682606  0.005766  0.089676   \n",
       "IMP_P3    0.035237  0.084113  0.276580  0.319938  0.208301  0.116027   \n",
       "IMP_P4   -0.036744  0.191366  0.096088  0.095476 -0.003158  0.105115   \n",
       "IMP_P5    0.058924  0.673071  0.065298  0.091053  0.112636  0.068655   \n",
       "IMP_P6    0.192461  0.009087  0.053991  0.197920  0.103135  0.023170   \n",
       "IMP_P7    0.039479  0.138211  0.143022  0.103258  0.000561  0.661324   \n",
       "IMP_P8    0.166087  0.086346  0.115356  0.488611  0.201982 -0.011454   \n",
       "IMP_P9    0.188333  0.112175  0.046351  0.101629  0.048296  0.759357   \n",
       "IMP_S1    0.071982  0.032865  0.606332  0.084276  0.040896  0.089975   \n",
       "IMP_S2    0.044647  0.332214  0.317748  0.027380  0.194123  0.116968   \n",
       "IMP_S3    0.128093  0.735548  0.255971 -0.010432  0.039752  0.051598   \n",
       "IMP_S4    0.229045  0.357443  0.221505  0.046156  0.057224  0.215258   \n",
       "IMP_S5    0.139747  0.114962  0.265840  0.229549  0.222871  0.123682   \n",
       "IMP_S6    0.141320  0.003500  0.419189  0.246363  0.112439  0.057181   \n",
       "IMP_S7    0.285961  0.166216  0.413465  0.116120  0.135976  0.039411   \n",
       "IMP_S8    0.061966  0.146555  0.137383  0.250049  0.379808  0.003621   \n",
       "IMP_S9    0.218832  0.230120  0.336060  0.115062  0.125832  0.086248   \n",
       "IMP_S10   0.067430  0.688335 -0.084146  0.147174  0.052416  0.112621   \n",
       "IMP_S11   0.310657  0.186167  0.255009  0.100055 -0.073901  0.245601   \n",
       "IMP_R     0.122588  0.158242  0.331359  0.135924  0.242832  0.011188   \n",
       "IMP_MOB1  0.250319  0.055549  0.248842  0.062312  0.474402  0.012166   \n",
       "IMP_MOB2  0.112279  0.058777  0.053570  0.053815  0.697601  0.007110   \n",
       "IMP_MOB3  0.502629  0.157613  0.114239 -0.010505  0.236129  0.077181   \n",
       "IMP_MOB4  0.714610  0.029114  0.051928  0.171755  0.071610  0.115962   \n",
       "IMP_MOB5  0.698720  0.022032  0.161892  0.018850  0.043525  0.071815   \n",
       "IMP_MOB6  0.395304  0.107443  0.169122  0.064720  0.227089  0.015559   \n",
       "IMP_MOB7  0.553225  0.071734 -0.047000  0.242790  0.218842 -0.052231   \n",
       "IMP_MOB8  0.481631  0.048714  0.168954  0.053032 -0.034953  0.111021   \n",
       "IMP_MOB9  0.439357  0.189741  0.095758  0.148564  0.123812  0.052199   \n",
       "\n",
       "                 6         7  \n",
       "IMP_P1    0.109581 -0.074993  \n",
       "IMP_P2    0.105731 -0.002712  \n",
       "IMP_P3   -0.116635  0.076458  \n",
       "IMP_P4    0.613215 -0.119412  \n",
       "IMP_P5    0.110216 -0.006545  \n",
       "IMP_P6    0.525482  0.141152  \n",
       "IMP_P7    0.027242 -0.058175  \n",
       "IMP_P8    0.155289  0.162167  \n",
       "IMP_P9    0.091116  0.087800  \n",
       "IMP_S1    0.016205  0.091665  \n",
       "IMP_S2    0.101277  0.187242  \n",
       "IMP_S3   -0.101525  0.042786  \n",
       "IMP_S4    0.145049  0.032164  \n",
       "IMP_S5    0.174305  0.132033  \n",
       "IMP_S6    0.061515  0.006293  \n",
       "IMP_S7    0.077803 -0.091873  \n",
       "IMP_S8    0.190610  0.099449  \n",
       "IMP_S9    0.175206 -0.238441  \n",
       "IMP_S10   0.137925  0.008380  \n",
       "IMP_S11   0.080023  0.070692  \n",
       "IMP_R     0.072046 -0.071580  \n",
       "IMP_MOB1 -0.054300  0.063269  \n",
       "IMP_MOB2  0.038543 -0.034330  \n",
       "IMP_MOB3 -0.056527 -0.163682  \n",
       "IMP_MOB4  0.011040 -0.075952  \n",
       "IMP_MOB5  0.059474  0.075547  \n",
       "IMP_MOB6  0.096184 -0.051379  \n",
       "IMP_MOB7  0.116301  0.198209  \n",
       "IMP_MOB8  0.054890  0.267557  \n",
       "IMP_MOB9 -0.012658  0.433173  "
      ]
     },
     "execution_count": 80,
     "metadata": {},
     "output_type": "execute_result"
    }
   ],
   "source": [
    "pd.DataFrame(fa_b.loadings_, index = factors.columns)"
   ]
  },
  {
   "cell_type": "markdown",
   "id": "2e413bf4",
   "metadata": {},
   "source": [
    "#### У фактора 1 высокая нагрузка по IMP_MOB3,4,5,6,7,8,9\n",
    "#### У фактора 2 по IMP_S2,3,4,10\n",
    "#### У фактора 3 по IMP_S1,6,7\n",
    "#### У фактора 4 по IMP_P1,2,3\n",
    "#### У фактора 5 по IMP_MOB1,2\n",
    "#### У фактора 6 по IMP_P7,9\n",
    "#### У фактора 7 по IMP_P6\n",
    "#### Фактором 8 можно пренебречь"
   ]
  },
  {
   "cell_type": "code",
   "execution_count": 82,
   "id": "5787066c",
   "metadata": {},
   "outputs": [
    {
     "data": {
      "text/plain": [
       "FactorAnalyzer(n_factors=7, rotation='varimax', rotation_kwargs={})"
      ]
     },
     "execution_count": 82,
     "metadata": {},
     "output_type": "execute_result"
    }
   ],
   "source": [
    "fa_7 = FactorAnalyzer(7, rotation = 'varimax')\n",
    "fa_7.fit(factors)"
   ]
  },
  {
   "cell_type": "code",
   "execution_count": 83,
   "id": "4983c964",
   "metadata": {},
   "outputs": [
    {
     "data": {
      "text/html": [
       "<div>\n",
       "<style scoped>\n",
       "    .dataframe tbody tr th:only-of-type {\n",
       "        vertical-align: middle;\n",
       "    }\n",
       "\n",
       "    .dataframe tbody tr th {\n",
       "        vertical-align: top;\n",
       "    }\n",
       "\n",
       "    .dataframe thead th {\n",
       "        text-align: right;\n",
       "    }\n",
       "</style>\n",
       "<table border=\"1\" class=\"dataframe\">\n",
       "  <thead>\n",
       "    <tr style=\"text-align: right;\">\n",
       "      <th></th>\n",
       "      <th>0</th>\n",
       "      <th>1</th>\n",
       "      <th>2</th>\n",
       "      <th>3</th>\n",
       "      <th>4</th>\n",
       "      <th>5</th>\n",
       "      <th>6</th>\n",
       "    </tr>\n",
       "  </thead>\n",
       "  <tbody>\n",
       "    <tr>\n",
       "      <th>IMP_P1</th>\n",
       "      <td>0.035714</td>\n",
       "      <td>0.021327</td>\n",
       "      <td>0.238475</td>\n",
       "      <td>0.489639</td>\n",
       "      <td>0.014314</td>\n",
       "      <td>0.129249</td>\n",
       "      <td>0.126309</td>\n",
       "    </tr>\n",
       "    <tr>\n",
       "      <th>IMP_P2</th>\n",
       "      <td>0.134410</td>\n",
       "      <td>0.086285</td>\n",
       "      <td>0.098185</td>\n",
       "      <td>0.607231</td>\n",
       "      <td>-0.013694</td>\n",
       "      <td>0.101115</td>\n",
       "      <td>0.108790</td>\n",
       "    </tr>\n",
       "    <tr>\n",
       "      <th>IMP_P3</th>\n",
       "      <td>0.041966</td>\n",
       "      <td>0.088841</td>\n",
       "      <td>0.283906</td>\n",
       "      <td>0.334989</td>\n",
       "      <td>0.171434</td>\n",
       "      <td>0.115561</td>\n",
       "      <td>-0.146816</td>\n",
       "    </tr>\n",
       "    <tr>\n",
       "      <th>IMP_P4</th>\n",
       "      <td>-0.051746</td>\n",
       "      <td>0.179367</td>\n",
       "      <td>0.104406</td>\n",
       "      <td>0.120894</td>\n",
       "      <td>-0.004173</td>\n",
       "      <td>0.100183</td>\n",
       "      <td>0.646273</td>\n",
       "    </tr>\n",
       "    <tr>\n",
       "      <th>IMP_P5</th>\n",
       "      <td>0.061604</td>\n",
       "      <td>0.668938</td>\n",
       "      <td>0.078120</td>\n",
       "      <td>0.091196</td>\n",
       "      <td>0.103989</td>\n",
       "      <td>0.066047</td>\n",
       "      <td>0.122791</td>\n",
       "    </tr>\n",
       "    <tr>\n",
       "      <th>IMP_P6</th>\n",
       "      <td>0.214519</td>\n",
       "      <td>0.020921</td>\n",
       "      <td>0.036492</td>\n",
       "      <td>0.286724</td>\n",
       "      <td>0.084471</td>\n",
       "      <td>0.018757</td>\n",
       "      <td>0.418560</td>\n",
       "    </tr>\n",
       "    <tr>\n",
       "      <th>IMP_P7</th>\n",
       "      <td>0.035410</td>\n",
       "      <td>0.134680</td>\n",
       "      <td>0.150880</td>\n",
       "      <td>0.081404</td>\n",
       "      <td>0.000338</td>\n",
       "      <td>0.674766</td>\n",
       "      <td>0.041650</td>\n",
       "    </tr>\n",
       "    <tr>\n",
       "      <th>IMP_P8</th>\n",
       "      <td>0.187938</td>\n",
       "      <td>0.092681</td>\n",
       "      <td>0.106970</td>\n",
       "      <td>0.555805</td>\n",
       "      <td>0.154584</td>\n",
       "      <td>-0.018055</td>\n",
       "      <td>0.089340</td>\n",
       "    </tr>\n",
       "    <tr>\n",
       "      <th>IMP_P9</th>\n",
       "      <td>0.211968</td>\n",
       "      <td>0.119699</td>\n",
       "      <td>0.044138</td>\n",
       "      <td>0.124592</td>\n",
       "      <td>0.038004</td>\n",
       "      <td>0.735839</td>\n",
       "      <td>0.071560</td>\n",
       "    </tr>\n",
       "    <tr>\n",
       "      <th>IMP_S1</th>\n",
       "      <td>0.087655</td>\n",
       "      <td>0.043131</td>\n",
       "      <td>0.568562</td>\n",
       "      <td>0.122511</td>\n",
       "      <td>0.020574</td>\n",
       "      <td>0.088650</td>\n",
       "      <td>-0.027806</td>\n",
       "    </tr>\n",
       "    <tr>\n",
       "      <th>IMP_S2</th>\n",
       "      <td>0.083558</td>\n",
       "      <td>0.341899</td>\n",
       "      <td>0.281706</td>\n",
       "      <td>0.108202</td>\n",
       "      <td>0.165987</td>\n",
       "      <td>0.107798</td>\n",
       "      <td>0.033874</td>\n",
       "    </tr>\n",
       "    <tr>\n",
       "      <th>IMP_S3</th>\n",
       "      <td>0.136363</td>\n",
       "      <td>0.739849</td>\n",
       "      <td>0.261703</td>\n",
       "      <td>-0.018298</td>\n",
       "      <td>0.027875</td>\n",
       "      <td>0.047399</td>\n",
       "      <td>-0.097036</td>\n",
       "    </tr>\n",
       "    <tr>\n",
       "      <th>IMP_S4</th>\n",
       "      <td>0.236853</td>\n",
       "      <td>0.355379</td>\n",
       "      <td>0.225625</td>\n",
       "      <td>0.064217</td>\n",
       "      <td>0.044508</td>\n",
       "      <td>0.206772</td>\n",
       "      <td>0.140897</td>\n",
       "    </tr>\n",
       "    <tr>\n",
       "      <th>IMP_S5</th>\n",
       "      <td>0.162458</td>\n",
       "      <td>0.122930</td>\n",
       "      <td>0.253150</td>\n",
       "      <td>0.290176</td>\n",
       "      <td>0.191631</td>\n",
       "      <td>0.117596</td>\n",
       "      <td>0.116175</td>\n",
       "    </tr>\n",
       "    <tr>\n",
       "      <th>IMP_S6</th>\n",
       "      <td>0.136386</td>\n",
       "      <td>-0.000111</td>\n",
       "      <td>0.428380</td>\n",
       "      <td>0.253921</td>\n",
       "      <td>0.087367</td>\n",
       "      <td>0.055827</td>\n",
       "      <td>0.047483</td>\n",
       "    </tr>\n",
       "    <tr>\n",
       "      <th>IMP_S7</th>\n",
       "      <td>0.264553</td>\n",
       "      <td>0.154378</td>\n",
       "      <td>0.438186</td>\n",
       "      <td>0.094954</td>\n",
       "      <td>0.126904</td>\n",
       "      <td>0.038377</td>\n",
       "      <td>0.099949</td>\n",
       "    </tr>\n",
       "    <tr>\n",
       "      <th>IMP_S8</th>\n",
       "      <td>0.077437</td>\n",
       "      <td>0.154862</td>\n",
       "      <td>0.134497</td>\n",
       "      <td>0.317004</td>\n",
       "      <td>0.347770</td>\n",
       "      <td>-0.001880</td>\n",
       "      <td>0.136530</td>\n",
       "    </tr>\n",
       "    <tr>\n",
       "      <th>IMP_S9</th>\n",
       "      <td>0.175596</td>\n",
       "      <td>0.206771</td>\n",
       "      <td>0.374900</td>\n",
       "      <td>0.064602</td>\n",
       "      <td>0.126827</td>\n",
       "      <td>0.088890</td>\n",
       "      <td>0.231717</td>\n",
       "    </tr>\n",
       "    <tr>\n",
       "      <th>IMP_S10</th>\n",
       "      <td>0.073136</td>\n",
       "      <td>0.683129</td>\n",
       "      <td>-0.073393</td>\n",
       "      <td>0.149115</td>\n",
       "      <td>0.043461</td>\n",
       "      <td>0.110811</td>\n",
       "      <td>0.148942</td>\n",
       "    </tr>\n",
       "    <tr>\n",
       "      <th>IMP_S11</th>\n",
       "      <td>0.323027</td>\n",
       "      <td>0.184231</td>\n",
       "      <td>0.252705</td>\n",
       "      <td>0.107590</td>\n",
       "      <td>-0.086386</td>\n",
       "      <td>0.242017</td>\n",
       "      <td>0.064597</td>\n",
       "    </tr>\n",
       "    <tr>\n",
       "      <th>IMP_R</th>\n",
       "      <td>0.104970</td>\n",
       "      <td>0.150808</td>\n",
       "      <td>0.357146</td>\n",
       "      <td>0.130717</td>\n",
       "      <td>0.228290</td>\n",
       "      <td>0.008502</td>\n",
       "      <td>0.085880</td>\n",
       "    </tr>\n",
       "    <tr>\n",
       "      <th>IMP_MOB1</th>\n",
       "      <td>0.254453</td>\n",
       "      <td>0.062267</td>\n",
       "      <td>0.256498</td>\n",
       "      <td>0.098384</td>\n",
       "      <td>0.457752</td>\n",
       "      <td>0.005224</td>\n",
       "      <td>-0.075821</td>\n",
       "    </tr>\n",
       "    <tr>\n",
       "      <th>IMP_MOB2</th>\n",
       "      <td>0.098787</td>\n",
       "      <td>0.060954</td>\n",
       "      <td>0.073813</td>\n",
       "      <td>0.080981</td>\n",
       "      <td>0.717006</td>\n",
       "      <td>0.006667</td>\n",
       "      <td>0.037796</td>\n",
       "    </tr>\n",
       "    <tr>\n",
       "      <th>IMP_MOB3</th>\n",
       "      <td>0.457153</td>\n",
       "      <td>0.139257</td>\n",
       "      <td>0.162097</td>\n",
       "      <td>-0.059236</td>\n",
       "      <td>0.240156</td>\n",
       "      <td>0.075695</td>\n",
       "      <td>0.009057</td>\n",
       "    </tr>\n",
       "    <tr>\n",
       "      <th>IMP_MOB4</th>\n",
       "      <td>0.670182</td>\n",
       "      <td>0.014389</td>\n",
       "      <td>0.096499</td>\n",
       "      <td>0.117265</td>\n",
       "      <td>0.082799</td>\n",
       "      <td>0.114820</td>\n",
       "      <td>0.057072</td>\n",
       "    </tr>\n",
       "    <tr>\n",
       "      <th>IMP_MOB5</th>\n",
       "      <td>0.711606</td>\n",
       "      <td>0.012571</td>\n",
       "      <td>0.169384</td>\n",
       "      <td>0.011406</td>\n",
       "      <td>0.048057</td>\n",
       "      <td>0.064595</td>\n",
       "      <td>0.063997</td>\n",
       "    </tr>\n",
       "    <tr>\n",
       "      <th>IMP_MOB6</th>\n",
       "      <td>0.382889</td>\n",
       "      <td>0.095769</td>\n",
       "      <td>0.195955</td>\n",
       "      <td>0.050621</td>\n",
       "      <td>0.226520</td>\n",
       "      <td>0.009366</td>\n",
       "      <td>0.125655</td>\n",
       "    </tr>\n",
       "    <tr>\n",
       "      <th>IMP_MOB7</th>\n",
       "      <td>0.582867</td>\n",
       "      <td>0.076462</td>\n",
       "      <td>-0.057428</td>\n",
       "      <td>0.299476</td>\n",
       "      <td>0.198967</td>\n",
       "      <td>-0.062107</td>\n",
       "      <td>0.063911</td>\n",
       "    </tr>\n",
       "    <tr>\n",
       "      <th>IMP_MOB8</th>\n",
       "      <td>0.517059</td>\n",
       "      <td>0.060027</td>\n",
       "      <td>0.135559</td>\n",
       "      <td>0.113959</td>\n",
       "      <td>-0.043939</td>\n",
       "      <td>0.100043</td>\n",
       "      <td>-0.009735</td>\n",
       "    </tr>\n",
       "    <tr>\n",
       "      <th>IMP_MOB9</th>\n",
       "      <td>0.491656</td>\n",
       "      <td>0.204887</td>\n",
       "      <td>0.060695</td>\n",
       "      <td>0.244437</td>\n",
       "      <td>0.090926</td>\n",
       "      <td>0.040244</td>\n",
       "      <td>-0.105342</td>\n",
       "    </tr>\n",
       "  </tbody>\n",
       "</table>\n",
       "</div>"
      ],
      "text/plain": [
       "                 0         1         2         3         4         5         6\n",
       "IMP_P1    0.035714  0.021327  0.238475  0.489639  0.014314  0.129249  0.126309\n",
       "IMP_P2    0.134410  0.086285  0.098185  0.607231 -0.013694  0.101115  0.108790\n",
       "IMP_P3    0.041966  0.088841  0.283906  0.334989  0.171434  0.115561 -0.146816\n",
       "IMP_P4   -0.051746  0.179367  0.104406  0.120894 -0.004173  0.100183  0.646273\n",
       "IMP_P5    0.061604  0.668938  0.078120  0.091196  0.103989  0.066047  0.122791\n",
       "IMP_P6    0.214519  0.020921  0.036492  0.286724  0.084471  0.018757  0.418560\n",
       "IMP_P7    0.035410  0.134680  0.150880  0.081404  0.000338  0.674766  0.041650\n",
       "IMP_P8    0.187938  0.092681  0.106970  0.555805  0.154584 -0.018055  0.089340\n",
       "IMP_P9    0.211968  0.119699  0.044138  0.124592  0.038004  0.735839  0.071560\n",
       "IMP_S1    0.087655  0.043131  0.568562  0.122511  0.020574  0.088650 -0.027806\n",
       "IMP_S2    0.083558  0.341899  0.281706  0.108202  0.165987  0.107798  0.033874\n",
       "IMP_S3    0.136363  0.739849  0.261703 -0.018298  0.027875  0.047399 -0.097036\n",
       "IMP_S4    0.236853  0.355379  0.225625  0.064217  0.044508  0.206772  0.140897\n",
       "IMP_S5    0.162458  0.122930  0.253150  0.290176  0.191631  0.117596  0.116175\n",
       "IMP_S6    0.136386 -0.000111  0.428380  0.253921  0.087367  0.055827  0.047483\n",
       "IMP_S7    0.264553  0.154378  0.438186  0.094954  0.126904  0.038377  0.099949\n",
       "IMP_S8    0.077437  0.154862  0.134497  0.317004  0.347770 -0.001880  0.136530\n",
       "IMP_S9    0.175596  0.206771  0.374900  0.064602  0.126827  0.088890  0.231717\n",
       "IMP_S10   0.073136  0.683129 -0.073393  0.149115  0.043461  0.110811  0.148942\n",
       "IMP_S11   0.323027  0.184231  0.252705  0.107590 -0.086386  0.242017  0.064597\n",
       "IMP_R     0.104970  0.150808  0.357146  0.130717  0.228290  0.008502  0.085880\n",
       "IMP_MOB1  0.254453  0.062267  0.256498  0.098384  0.457752  0.005224 -0.075821\n",
       "IMP_MOB2  0.098787  0.060954  0.073813  0.080981  0.717006  0.006667  0.037796\n",
       "IMP_MOB3  0.457153  0.139257  0.162097 -0.059236  0.240156  0.075695  0.009057\n",
       "IMP_MOB4  0.670182  0.014389  0.096499  0.117265  0.082799  0.114820  0.057072\n",
       "IMP_MOB5  0.711606  0.012571  0.169384  0.011406  0.048057  0.064595  0.063997\n",
       "IMP_MOB6  0.382889  0.095769  0.195955  0.050621  0.226520  0.009366  0.125655\n",
       "IMP_MOB7  0.582867  0.076462 -0.057428  0.299476  0.198967 -0.062107  0.063911\n",
       "IMP_MOB8  0.517059  0.060027  0.135559  0.113959 -0.043939  0.100043 -0.009735\n",
       "IMP_MOB9  0.491656  0.204887  0.060695  0.244437  0.090926  0.040244 -0.105342"
      ]
     },
     "execution_count": 83,
     "metadata": {},
     "output_type": "execute_result"
    }
   ],
   "source": [
    "pd.DataFrame(fa_7.loadings_, index = factors.columns)"
   ]
  },
  {
   "cell_type": "code",
   "execution_count": 84,
   "id": "43c00147",
   "metadata": {},
   "outputs": [
    {
     "data": {
      "text/html": [
       "<div>\n",
       "<style scoped>\n",
       "    .dataframe tbody tr th:only-of-type {\n",
       "        vertical-align: middle;\n",
       "    }\n",
       "\n",
       "    .dataframe tbody tr th {\n",
       "        vertical-align: top;\n",
       "    }\n",
       "\n",
       "    .dataframe thead th {\n",
       "        text-align: right;\n",
       "    }\n",
       "</style>\n",
       "<table border=\"1\" class=\"dataframe\">\n",
       "  <thead>\n",
       "    <tr style=\"text-align: right;\">\n",
       "      <th></th>\n",
       "      <th>0</th>\n",
       "      <th>1</th>\n",
       "      <th>2</th>\n",
       "      <th>3</th>\n",
       "      <th>4</th>\n",
       "      <th>5</th>\n",
       "      <th>6</th>\n",
       "    </tr>\n",
       "  </thead>\n",
       "  <tbody>\n",
       "    <tr>\n",
       "      <th>0</th>\n",
       "      <td>2.751419</td>\n",
       "      <td>2.046343</td>\n",
       "      <td>1.717935</td>\n",
       "      <td>1.699950</td>\n",
       "      <td>1.254351</td>\n",
       "      <td>1.252586</td>\n",
       "      <td>0.880792</td>\n",
       "    </tr>\n",
       "    <tr>\n",
       "      <th>1</th>\n",
       "      <td>0.091714</td>\n",
       "      <td>0.068211</td>\n",
       "      <td>0.057265</td>\n",
       "      <td>0.056665</td>\n",
       "      <td>0.041812</td>\n",
       "      <td>0.041753</td>\n",
       "      <td>0.029360</td>\n",
       "    </tr>\n",
       "    <tr>\n",
       "      <th>2</th>\n",
       "      <td>0.091714</td>\n",
       "      <td>0.159925</td>\n",
       "      <td>0.217190</td>\n",
       "      <td>0.273855</td>\n",
       "      <td>0.315667</td>\n",
       "      <td>0.357420</td>\n",
       "      <td>0.386779</td>\n",
       "    </tr>\n",
       "  </tbody>\n",
       "</table>\n",
       "</div>"
      ],
      "text/plain": [
       "          0         1         2         3         4         5         6\n",
       "0  2.751419  2.046343  1.717935  1.699950  1.254351  1.252586  0.880792\n",
       "1  0.091714  0.068211  0.057265  0.056665  0.041812  0.041753  0.029360\n",
       "2  0.091714  0.159925  0.217190  0.273855  0.315667  0.357420  0.386779"
      ]
     },
     "execution_count": 84,
     "metadata": {},
     "output_type": "execute_result"
    }
   ],
   "source": [
    "pd.DataFrame(fa_7.get_factor_variance())"
   ]
  },
  {
   "cell_type": "markdown",
   "id": "b9ac09a8",
   "metadata": {},
   "source": [
    "##### 38% кумулятивной дисперсии объясняется 7 факторами - довольно низкий результат. Значит есть другие факторы, объясняющие изменчивость признака."
   ]
  },
  {
   "cell_type": "code",
   "execution_count": 89,
   "id": "5f2fa8b9",
   "metadata": {},
   "outputs": [
    {
     "data": {
      "text/html": [
       "<div>\n",
       "<style scoped>\n",
       "    .dataframe tbody tr th:only-of-type {\n",
       "        vertical-align: middle;\n",
       "    }\n",
       "\n",
       "    .dataframe tbody tr th {\n",
       "        vertical-align: top;\n",
       "    }\n",
       "\n",
       "    .dataframe thead th {\n",
       "        text-align: right;\n",
       "    }\n",
       "</style>\n",
       "<table border=\"1\" class=\"dataframe\">\n",
       "  <thead>\n",
       "    <tr style=\"text-align: right;\">\n",
       "      <th></th>\n",
       "      <th>0</th>\n",
       "      <th>1</th>\n",
       "      <th>2</th>\n",
       "      <th>3</th>\n",
       "      <th>4</th>\n",
       "      <th>5</th>\n",
       "      <th>6</th>\n",
       "    </tr>\n",
       "  </thead>\n",
       "  <tbody>\n",
       "    <tr>\n",
       "      <th>IMP_P1</th>\n",
       "      <td>0.035714</td>\n",
       "      <td>0.021327</td>\n",
       "      <td>0.238475</td>\n",
       "      <td>0.489639</td>\n",
       "      <td>0.014314</td>\n",
       "      <td>0.129249</td>\n",
       "      <td>0.126309</td>\n",
       "    </tr>\n",
       "    <tr>\n",
       "      <th>IMP_P2</th>\n",
       "      <td>0.134410</td>\n",
       "      <td>0.086285</td>\n",
       "      <td>0.098185</td>\n",
       "      <td>0.607231</td>\n",
       "      <td>0.013694</td>\n",
       "      <td>0.101115</td>\n",
       "      <td>0.108790</td>\n",
       "    </tr>\n",
       "    <tr>\n",
       "      <th>IMP_P3</th>\n",
       "      <td>0.041966</td>\n",
       "      <td>0.088841</td>\n",
       "      <td>0.283906</td>\n",
       "      <td>0.334989</td>\n",
       "      <td>0.171434</td>\n",
       "      <td>0.115561</td>\n",
       "      <td>0.146816</td>\n",
       "    </tr>\n",
       "    <tr>\n",
       "      <th>IMP_P4</th>\n",
       "      <td>0.051746</td>\n",
       "      <td>0.179367</td>\n",
       "      <td>0.104406</td>\n",
       "      <td>0.120894</td>\n",
       "      <td>0.004173</td>\n",
       "      <td>0.100183</td>\n",
       "      <td>0.646273</td>\n",
       "    </tr>\n",
       "    <tr>\n",
       "      <th>IMP_P5</th>\n",
       "      <td>0.061604</td>\n",
       "      <td>0.668938</td>\n",
       "      <td>0.078120</td>\n",
       "      <td>0.091196</td>\n",
       "      <td>0.103989</td>\n",
       "      <td>0.066047</td>\n",
       "      <td>0.122791</td>\n",
       "    </tr>\n",
       "    <tr>\n",
       "      <th>IMP_P6</th>\n",
       "      <td>0.214519</td>\n",
       "      <td>0.020921</td>\n",
       "      <td>0.036492</td>\n",
       "      <td>0.286724</td>\n",
       "      <td>0.084471</td>\n",
       "      <td>0.018757</td>\n",
       "      <td>0.418560</td>\n",
       "    </tr>\n",
       "    <tr>\n",
       "      <th>IMP_P7</th>\n",
       "      <td>0.035410</td>\n",
       "      <td>0.134680</td>\n",
       "      <td>0.150880</td>\n",
       "      <td>0.081404</td>\n",
       "      <td>0.000338</td>\n",
       "      <td>0.674766</td>\n",
       "      <td>0.041650</td>\n",
       "    </tr>\n",
       "    <tr>\n",
       "      <th>IMP_P8</th>\n",
       "      <td>0.187938</td>\n",
       "      <td>0.092681</td>\n",
       "      <td>0.106970</td>\n",
       "      <td>0.555805</td>\n",
       "      <td>0.154584</td>\n",
       "      <td>0.018055</td>\n",
       "      <td>0.089340</td>\n",
       "    </tr>\n",
       "    <tr>\n",
       "      <th>IMP_P9</th>\n",
       "      <td>0.211968</td>\n",
       "      <td>0.119699</td>\n",
       "      <td>0.044138</td>\n",
       "      <td>0.124592</td>\n",
       "      <td>0.038004</td>\n",
       "      <td>0.735839</td>\n",
       "      <td>0.071560</td>\n",
       "    </tr>\n",
       "    <tr>\n",
       "      <th>IMP_S1</th>\n",
       "      <td>0.087655</td>\n",
       "      <td>0.043131</td>\n",
       "      <td>0.568562</td>\n",
       "      <td>0.122511</td>\n",
       "      <td>0.020574</td>\n",
       "      <td>0.088650</td>\n",
       "      <td>0.027806</td>\n",
       "    </tr>\n",
       "    <tr>\n",
       "      <th>IMP_S2</th>\n",
       "      <td>0.083558</td>\n",
       "      <td>0.341899</td>\n",
       "      <td>0.281706</td>\n",
       "      <td>0.108202</td>\n",
       "      <td>0.165987</td>\n",
       "      <td>0.107798</td>\n",
       "      <td>0.033874</td>\n",
       "    </tr>\n",
       "    <tr>\n",
       "      <th>IMP_S3</th>\n",
       "      <td>0.136363</td>\n",
       "      <td>0.739849</td>\n",
       "      <td>0.261703</td>\n",
       "      <td>0.018298</td>\n",
       "      <td>0.027875</td>\n",
       "      <td>0.047399</td>\n",
       "      <td>0.097036</td>\n",
       "    </tr>\n",
       "    <tr>\n",
       "      <th>IMP_S4</th>\n",
       "      <td>0.236853</td>\n",
       "      <td>0.355379</td>\n",
       "      <td>0.225625</td>\n",
       "      <td>0.064217</td>\n",
       "      <td>0.044508</td>\n",
       "      <td>0.206772</td>\n",
       "      <td>0.140897</td>\n",
       "    </tr>\n",
       "    <tr>\n",
       "      <th>IMP_S5</th>\n",
       "      <td>0.162458</td>\n",
       "      <td>0.122930</td>\n",
       "      <td>0.253150</td>\n",
       "      <td>0.290176</td>\n",
       "      <td>0.191631</td>\n",
       "      <td>0.117596</td>\n",
       "      <td>0.116175</td>\n",
       "    </tr>\n",
       "    <tr>\n",
       "      <th>IMP_S6</th>\n",
       "      <td>0.136386</td>\n",
       "      <td>0.000111</td>\n",
       "      <td>0.428380</td>\n",
       "      <td>0.253921</td>\n",
       "      <td>0.087367</td>\n",
       "      <td>0.055827</td>\n",
       "      <td>0.047483</td>\n",
       "    </tr>\n",
       "    <tr>\n",
       "      <th>IMP_S7</th>\n",
       "      <td>0.264553</td>\n",
       "      <td>0.154378</td>\n",
       "      <td>0.438186</td>\n",
       "      <td>0.094954</td>\n",
       "      <td>0.126904</td>\n",
       "      <td>0.038377</td>\n",
       "      <td>0.099949</td>\n",
       "    </tr>\n",
       "    <tr>\n",
       "      <th>IMP_S8</th>\n",
       "      <td>0.077437</td>\n",
       "      <td>0.154862</td>\n",
       "      <td>0.134497</td>\n",
       "      <td>0.317004</td>\n",
       "      <td>0.347770</td>\n",
       "      <td>0.001880</td>\n",
       "      <td>0.136530</td>\n",
       "    </tr>\n",
       "    <tr>\n",
       "      <th>IMP_S9</th>\n",
       "      <td>0.175596</td>\n",
       "      <td>0.206771</td>\n",
       "      <td>0.374900</td>\n",
       "      <td>0.064602</td>\n",
       "      <td>0.126827</td>\n",
       "      <td>0.088890</td>\n",
       "      <td>0.231717</td>\n",
       "    </tr>\n",
       "    <tr>\n",
       "      <th>IMP_S10</th>\n",
       "      <td>0.073136</td>\n",
       "      <td>0.683129</td>\n",
       "      <td>0.073393</td>\n",
       "      <td>0.149115</td>\n",
       "      <td>0.043461</td>\n",
       "      <td>0.110811</td>\n",
       "      <td>0.148942</td>\n",
       "    </tr>\n",
       "    <tr>\n",
       "      <th>IMP_S11</th>\n",
       "      <td>0.323027</td>\n",
       "      <td>0.184231</td>\n",
       "      <td>0.252705</td>\n",
       "      <td>0.107590</td>\n",
       "      <td>0.086386</td>\n",
       "      <td>0.242017</td>\n",
       "      <td>0.064597</td>\n",
       "    </tr>\n",
       "    <tr>\n",
       "      <th>IMP_R</th>\n",
       "      <td>0.104970</td>\n",
       "      <td>0.150808</td>\n",
       "      <td>0.357146</td>\n",
       "      <td>0.130717</td>\n",
       "      <td>0.228290</td>\n",
       "      <td>0.008502</td>\n",
       "      <td>0.085880</td>\n",
       "    </tr>\n",
       "    <tr>\n",
       "      <th>IMP_MOB1</th>\n",
       "      <td>0.254453</td>\n",
       "      <td>0.062267</td>\n",
       "      <td>0.256498</td>\n",
       "      <td>0.098384</td>\n",
       "      <td>0.457752</td>\n",
       "      <td>0.005224</td>\n",
       "      <td>0.075821</td>\n",
       "    </tr>\n",
       "    <tr>\n",
       "      <th>IMP_MOB2</th>\n",
       "      <td>0.098787</td>\n",
       "      <td>0.060954</td>\n",
       "      <td>0.073813</td>\n",
       "      <td>0.080981</td>\n",
       "      <td>0.717006</td>\n",
       "      <td>0.006667</td>\n",
       "      <td>0.037796</td>\n",
       "    </tr>\n",
       "    <tr>\n",
       "      <th>IMP_MOB3</th>\n",
       "      <td>0.457153</td>\n",
       "      <td>0.139257</td>\n",
       "      <td>0.162097</td>\n",
       "      <td>0.059236</td>\n",
       "      <td>0.240156</td>\n",
       "      <td>0.075695</td>\n",
       "      <td>0.009057</td>\n",
       "    </tr>\n",
       "    <tr>\n",
       "      <th>IMP_MOB4</th>\n",
       "      <td>0.670182</td>\n",
       "      <td>0.014389</td>\n",
       "      <td>0.096499</td>\n",
       "      <td>0.117265</td>\n",
       "      <td>0.082799</td>\n",
       "      <td>0.114820</td>\n",
       "      <td>0.057072</td>\n",
       "    </tr>\n",
       "    <tr>\n",
       "      <th>IMP_MOB5</th>\n",
       "      <td>0.711606</td>\n",
       "      <td>0.012571</td>\n",
       "      <td>0.169384</td>\n",
       "      <td>0.011406</td>\n",
       "      <td>0.048057</td>\n",
       "      <td>0.064595</td>\n",
       "      <td>0.063997</td>\n",
       "    </tr>\n",
       "    <tr>\n",
       "      <th>IMP_MOB6</th>\n",
       "      <td>0.382889</td>\n",
       "      <td>0.095769</td>\n",
       "      <td>0.195955</td>\n",
       "      <td>0.050621</td>\n",
       "      <td>0.226520</td>\n",
       "      <td>0.009366</td>\n",
       "      <td>0.125655</td>\n",
       "    </tr>\n",
       "    <tr>\n",
       "      <th>IMP_MOB7</th>\n",
       "      <td>0.582867</td>\n",
       "      <td>0.076462</td>\n",
       "      <td>0.057428</td>\n",
       "      <td>0.299476</td>\n",
       "      <td>0.198967</td>\n",
       "      <td>0.062107</td>\n",
       "      <td>0.063911</td>\n",
       "    </tr>\n",
       "    <tr>\n",
       "      <th>IMP_MOB8</th>\n",
       "      <td>0.517059</td>\n",
       "      <td>0.060027</td>\n",
       "      <td>0.135559</td>\n",
       "      <td>0.113959</td>\n",
       "      <td>0.043939</td>\n",
       "      <td>0.100043</td>\n",
       "      <td>0.009735</td>\n",
       "    </tr>\n",
       "    <tr>\n",
       "      <th>IMP_MOB9</th>\n",
       "      <td>0.491656</td>\n",
       "      <td>0.204887</td>\n",
       "      <td>0.060695</td>\n",
       "      <td>0.244437</td>\n",
       "      <td>0.090926</td>\n",
       "      <td>0.040244</td>\n",
       "      <td>0.105342</td>\n",
       "    </tr>\n",
       "  </tbody>\n",
       "</table>\n",
       "</div>"
      ],
      "text/plain": [
       "                 0         1         2         3         4         5         6\n",
       "IMP_P1    0.035714  0.021327  0.238475  0.489639  0.014314  0.129249  0.126309\n",
       "IMP_P2    0.134410  0.086285  0.098185  0.607231  0.013694  0.101115  0.108790\n",
       "IMP_P3    0.041966  0.088841  0.283906  0.334989  0.171434  0.115561  0.146816\n",
       "IMP_P4    0.051746  0.179367  0.104406  0.120894  0.004173  0.100183  0.646273\n",
       "IMP_P5    0.061604  0.668938  0.078120  0.091196  0.103989  0.066047  0.122791\n",
       "IMP_P6    0.214519  0.020921  0.036492  0.286724  0.084471  0.018757  0.418560\n",
       "IMP_P7    0.035410  0.134680  0.150880  0.081404  0.000338  0.674766  0.041650\n",
       "IMP_P8    0.187938  0.092681  0.106970  0.555805  0.154584  0.018055  0.089340\n",
       "IMP_P9    0.211968  0.119699  0.044138  0.124592  0.038004  0.735839  0.071560\n",
       "IMP_S1    0.087655  0.043131  0.568562  0.122511  0.020574  0.088650  0.027806\n",
       "IMP_S2    0.083558  0.341899  0.281706  0.108202  0.165987  0.107798  0.033874\n",
       "IMP_S3    0.136363  0.739849  0.261703  0.018298  0.027875  0.047399  0.097036\n",
       "IMP_S4    0.236853  0.355379  0.225625  0.064217  0.044508  0.206772  0.140897\n",
       "IMP_S5    0.162458  0.122930  0.253150  0.290176  0.191631  0.117596  0.116175\n",
       "IMP_S6    0.136386  0.000111  0.428380  0.253921  0.087367  0.055827  0.047483\n",
       "IMP_S7    0.264553  0.154378  0.438186  0.094954  0.126904  0.038377  0.099949\n",
       "IMP_S8    0.077437  0.154862  0.134497  0.317004  0.347770  0.001880  0.136530\n",
       "IMP_S9    0.175596  0.206771  0.374900  0.064602  0.126827  0.088890  0.231717\n",
       "IMP_S10   0.073136  0.683129  0.073393  0.149115  0.043461  0.110811  0.148942\n",
       "IMP_S11   0.323027  0.184231  0.252705  0.107590  0.086386  0.242017  0.064597\n",
       "IMP_R     0.104970  0.150808  0.357146  0.130717  0.228290  0.008502  0.085880\n",
       "IMP_MOB1  0.254453  0.062267  0.256498  0.098384  0.457752  0.005224  0.075821\n",
       "IMP_MOB2  0.098787  0.060954  0.073813  0.080981  0.717006  0.006667  0.037796\n",
       "IMP_MOB3  0.457153  0.139257  0.162097  0.059236  0.240156  0.075695  0.009057\n",
       "IMP_MOB4  0.670182  0.014389  0.096499  0.117265  0.082799  0.114820  0.057072\n",
       "IMP_MOB5  0.711606  0.012571  0.169384  0.011406  0.048057  0.064595  0.063997\n",
       "IMP_MOB6  0.382889  0.095769  0.195955  0.050621  0.226520  0.009366  0.125655\n",
       "IMP_MOB7  0.582867  0.076462  0.057428  0.299476  0.198967  0.062107  0.063911\n",
       "IMP_MOB8  0.517059  0.060027  0.135559  0.113959  0.043939  0.100043  0.009735\n",
       "IMP_MOB9  0.491656  0.204887  0.060695  0.244437  0.090926  0.040244  0.105342"
      ]
     },
     "execution_count": 89,
     "metadata": {},
     "output_type": "execute_result"
    }
   ],
   "source": [
    "factors_7 = pd.DataFrame(np.abs(fa_7.loadings_), index = factors.columns)\n",
    "factors_7"
   ]
  },
  {
   "cell_type": "code",
   "execution_count": 90,
   "id": "3d9b1a44",
   "metadata": {},
   "outputs": [
    {
     "data": {
      "text/plain": [
       "Text(104.09375, 0.5, 'Диапазон')"
      ]
     },
     "execution_count": 90,
     "metadata": {},
     "output_type": "execute_result"
    },
    {
     "data": {
      "image/png": "[encoded data removed]",
      "text/plain": [
       "<Figure size 1008x1008 with 2 Axes>"
      ]
     },
     "metadata": {
      "needs_background": "light"
     },
     "output_type": "display_data"
    }
   ],
   "source": [
    "plt.figure(figsize = (14,14))\n",
    "ax = sns.heatmap(factors_7, annot = True, cmap = 'BuPu')\n",
    "\n",
    "ax.yaxis.set_tick_params(labelsize = 15)\n",
    "plt.title('Факторный анализ', fontsize = 'xx-large')\n",
    "\n",
    "plt.ylabel('Диапазон', fontsize = 'xx-large')"
   ]
  },
  {
   "cell_type": "markdown",
   "id": "f71a56d9",
   "metadata": {},
   "source": [
    "###### Наиболее значимым фактором, влияющим на удовлетворенность клиентов и готовность рекомендовать банк друзьям или коллегам, является мобильное приложение, а именно: использование экосистемы (покупка товаров, билетов, подписка), возможность настроить интерфейс и набор функций под себя, возможность управлять безопасностью (блокировать карту, изменять лимиты, указывать страну пребывания), возможность пользоваться скидками/бонусами от партнеров (купить билеты, потратить бонусы), наличие особого дизайна и цветовых решений для меня как премиального клиента, наличие персональных продуктовых предложений от банка_M"
   ]
  },
  {
   "cell_type": "code",
   "execution_count": null,
   "id": "79bcf040",
   "metadata": {},
   "outputs": [],
   "source": []
  }
 ],
 "metadata": {
  "kernelspec": {
   "display_name": "Python 3 (ipykernel)",
   "language": "python",
   "name": "python3"
  },
  "language_info": {
   "codemirror_mode": {
    "name": "ipython",
    "version": 3
   },
   "file_extension": ".py",
   "mimetype": "text/x-python",
   "name": "python",
   "nbconvert_exporter": "python",
   "pygments_lexer": "ipython3",
   "version": "3.9.12"
  }
 },
 "nbformat": 4,
 "nbformat_minor": 5
}
